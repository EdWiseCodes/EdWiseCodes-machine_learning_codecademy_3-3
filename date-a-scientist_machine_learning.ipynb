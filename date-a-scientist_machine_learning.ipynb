{
 "cells": [
  {
   "cell_type": "markdown",
   "metadata": {},
   "source": [
    "# Date-A-Scientist Portfolio Project (Codecademy Data Science)"
   ]
  },
  {
   "cell_type": "markdown",
   "metadata": {},
   "source": [
    "# Introduction"
   ]
  },
  {
   "cell_type": "markdown",
   "metadata": {},
   "source": [
    "As part of the Codecademy Data Science course, I was tasked with building machine learning models using data from the dating\n",
    "application OKCupid. As the last project in the course where I was provided with data to work with (rather than sourcing it myself), this project was intended as an opportunity to demonstrate the programming, data visualisation, data analysis, and machine learning competencies I'd developed over the course. \n",
    "\n",
    "The goal of my project is to create a machine learning classification model that can predict whether a user was male or female. Below I go into more detail about the goals of the project, the data used, the analysis performed, and the evaluations undertaken."
   ]
  },
  {
   "cell_type": "markdown",
   "metadata": {},
   "source": [
    "**Project Goals**\n",
    "\n",
    "As stated above, the primary goal of the project is to create a machine learning classification model that can predict whether a user was male or female. The reason this goal was selected was to ensure that there was enough data to build a successful machine learning model (as m/f is a compulsory column to sign up to the site), allowing me to try (and optimise) several different classification algorithms.\n",
    "\n",
    "**Data**\n",
    "\n",
    "The data covers the responses of OKCupid users to a number of questions, both multiple choice and longer written 'essay' questions. Each row represents an OkCupid user and each column is a different question. The data provided is in the csv file: `profiles.csv`.\n",
    "\n",
    "**Analysis**\n",
    "\n",
    "Firstly, I perform exploratory data analysis on the dataset, including basic descriptive statistics and data visualisation, to evaluate which variables to include in the machine learning model. After preparing and splitting the data, several different classification algorithms from the supervised learning family of machine learning models are used in an attempt to predict whether a given user is male or female. I then attempt to optimise these models.\n",
    "\n",
    "**Evaluation**\n",
    "\n",
    "The project concludes by evaluating the different optimised machine learning models built in the previous step. We use accuracy, precision, recall, and F1 scores to compare the quality of the models."
   ]
  },
  {
   "cell_type": "markdown",
   "metadata": {},
   "source": [
    "### Importing Modules, Loading Data"
   ]
  },
  {
   "cell_type": "code",
   "execution_count": 3,
   "metadata": {},
   "outputs": [],
   "source": [
    "import numpy as np\n",
    "import pandas as pd\n",
    "import matplotlib.pyplot as plt\n",
    "import seaborn as sns"
   ]
  },
  {
   "cell_type": "code",
   "execution_count": 4,
   "metadata": {},
   "outputs": [
    {
     "data": {
      "text/html": [
       "<div>\n",
       "<style scoped>\n",
       "    .dataframe tbody tr th:only-of-type {\n",
       "        vertical-align: middle;\n",
       "    }\n",
       "\n",
       "    .dataframe tbody tr th {\n",
       "        vertical-align: top;\n",
       "    }\n",
       "\n",
       "    .dataframe thead th {\n",
       "        text-align: right;\n",
       "    }\n",
       "</style>\n",
       "<table border=\"1\" class=\"dataframe\">\n",
       "  <thead>\n",
       "    <tr style=\"text-align: right;\">\n",
       "      <th></th>\n",
       "      <th>age</th>\n",
       "      <th>body_type</th>\n",
       "      <th>diet</th>\n",
       "      <th>drinks</th>\n",
       "      <th>drugs</th>\n",
       "      <th>education</th>\n",
       "      <th>essay0</th>\n",
       "      <th>essay1</th>\n",
       "      <th>essay2</th>\n",
       "      <th>essay3</th>\n",
       "      <th>...</th>\n",
       "      <th>location</th>\n",
       "      <th>offspring</th>\n",
       "      <th>orientation</th>\n",
       "      <th>pets</th>\n",
       "      <th>religion</th>\n",
       "      <th>sex</th>\n",
       "      <th>sign</th>\n",
       "      <th>smokes</th>\n",
       "      <th>speaks</th>\n",
       "      <th>status</th>\n",
       "    </tr>\n",
       "  </thead>\n",
       "  <tbody>\n",
       "    <tr>\n",
       "      <th>0</th>\n",
       "      <td>22</td>\n",
       "      <td>a little extra</td>\n",
       "      <td>strictly anything</td>\n",
       "      <td>socially</td>\n",
       "      <td>never</td>\n",
       "      <td>working on college/university</td>\n",
       "      <td>about me:&lt;br /&gt;\\n&lt;br /&gt;\\ni would love to think...</td>\n",
       "      <td>currently working as an international agent fo...</td>\n",
       "      <td>making people laugh.&lt;br /&gt;\\nranting about a go...</td>\n",
       "      <td>the way i look. i am a six foot half asian, ha...</td>\n",
       "      <td>...</td>\n",
       "      <td>south san francisco, california</td>\n",
       "      <td>doesn&amp;rsquo;t have kids, but might want them</td>\n",
       "      <td>straight</td>\n",
       "      <td>likes dogs and likes cats</td>\n",
       "      <td>agnosticism and very serious about it</td>\n",
       "      <td>m</td>\n",
       "      <td>gemini</td>\n",
       "      <td>sometimes</td>\n",
       "      <td>english</td>\n",
       "      <td>single</td>\n",
       "    </tr>\n",
       "    <tr>\n",
       "      <th>1</th>\n",
       "      <td>35</td>\n",
       "      <td>average</td>\n",
       "      <td>mostly other</td>\n",
       "      <td>often</td>\n",
       "      <td>sometimes</td>\n",
       "      <td>working on space camp</td>\n",
       "      <td>i am a chef: this is what that means.&lt;br /&gt;\\n1...</td>\n",
       "      <td>dedicating everyday to being an unbelievable b...</td>\n",
       "      <td>being silly. having ridiculous amonts of fun w...</td>\n",
       "      <td>NaN</td>\n",
       "      <td>...</td>\n",
       "      <td>oakland, california</td>\n",
       "      <td>doesn&amp;rsquo;t have kids, but might want them</td>\n",
       "      <td>straight</td>\n",
       "      <td>likes dogs and likes cats</td>\n",
       "      <td>agnosticism but not too serious about it</td>\n",
       "      <td>m</td>\n",
       "      <td>cancer</td>\n",
       "      <td>no</td>\n",
       "      <td>english (fluently), spanish (poorly), french (...</td>\n",
       "      <td>single</td>\n",
       "    </tr>\n",
       "    <tr>\n",
       "      <th>2</th>\n",
       "      <td>38</td>\n",
       "      <td>thin</td>\n",
       "      <td>anything</td>\n",
       "      <td>socially</td>\n",
       "      <td>NaN</td>\n",
       "      <td>graduated from masters program</td>\n",
       "      <td>i'm not ashamed of much, but writing public te...</td>\n",
       "      <td>i make nerdy software for musicians, artists, ...</td>\n",
       "      <td>improvising in different contexts. alternating...</td>\n",
       "      <td>my large jaw and large glasses are the physica...</td>\n",
       "      <td>...</td>\n",
       "      <td>san francisco, california</td>\n",
       "      <td>NaN</td>\n",
       "      <td>straight</td>\n",
       "      <td>has cats</td>\n",
       "      <td>NaN</td>\n",
       "      <td>m</td>\n",
       "      <td>pisces but it doesn&amp;rsquo;t matter</td>\n",
       "      <td>no</td>\n",
       "      <td>english, french, c++</td>\n",
       "      <td>available</td>\n",
       "    </tr>\n",
       "    <tr>\n",
       "      <th>3</th>\n",
       "      <td>23</td>\n",
       "      <td>thin</td>\n",
       "      <td>vegetarian</td>\n",
       "      <td>socially</td>\n",
       "      <td>NaN</td>\n",
       "      <td>working on college/university</td>\n",
       "      <td>i work in a library and go to school. . .</td>\n",
       "      <td>reading things written by old dead people</td>\n",
       "      <td>playing synthesizers and organizing books acco...</td>\n",
       "      <td>socially awkward but i do my best</td>\n",
       "      <td>...</td>\n",
       "      <td>berkeley, california</td>\n",
       "      <td>doesn&amp;rsquo;t want kids</td>\n",
       "      <td>straight</td>\n",
       "      <td>likes cats</td>\n",
       "      <td>NaN</td>\n",
       "      <td>m</td>\n",
       "      <td>pisces</td>\n",
       "      <td>no</td>\n",
       "      <td>english, german (poorly)</td>\n",
       "      <td>single</td>\n",
       "    </tr>\n",
       "    <tr>\n",
       "      <th>4</th>\n",
       "      <td>29</td>\n",
       "      <td>athletic</td>\n",
       "      <td>NaN</td>\n",
       "      <td>socially</td>\n",
       "      <td>never</td>\n",
       "      <td>graduated from college/university</td>\n",
       "      <td>hey how's it going? currently vague on the pro...</td>\n",
       "      <td>work work work work + play</td>\n",
       "      <td>creating imagery to look at:&lt;br /&gt;\\nhttp://bag...</td>\n",
       "      <td>i smile a lot and my inquisitive nature</td>\n",
       "      <td>...</td>\n",
       "      <td>san francisco, california</td>\n",
       "      <td>NaN</td>\n",
       "      <td>straight</td>\n",
       "      <td>likes dogs and likes cats</td>\n",
       "      <td>NaN</td>\n",
       "      <td>m</td>\n",
       "      <td>aquarius</td>\n",
       "      <td>no</td>\n",
       "      <td>english</td>\n",
       "      <td>single</td>\n",
       "    </tr>\n",
       "  </tbody>\n",
       "</table>\n",
       "<p>5 rows × 31 columns</p>\n",
       "</div>"
      ],
      "text/plain": [
       "   age       body_type               diet    drinks      drugs  \\\n",
       "0   22  a little extra  strictly anything  socially      never   \n",
       "1   35         average       mostly other     often  sometimes   \n",
       "2   38            thin           anything  socially        NaN   \n",
       "3   23            thin         vegetarian  socially        NaN   \n",
       "4   29        athletic                NaN  socially      never   \n",
       "\n",
       "                           education  \\\n",
       "0      working on college/university   \n",
       "1              working on space camp   \n",
       "2     graduated from masters program   \n",
       "3      working on college/university   \n",
       "4  graduated from college/university   \n",
       "\n",
       "                                              essay0  \\\n",
       "0  about me:<br />\\n<br />\\ni would love to think...   \n",
       "1  i am a chef: this is what that means.<br />\\n1...   \n",
       "2  i'm not ashamed of much, but writing public te...   \n",
       "3          i work in a library and go to school. . .   \n",
       "4  hey how's it going? currently vague on the pro...   \n",
       "\n",
       "                                              essay1  \\\n",
       "0  currently working as an international agent fo...   \n",
       "1  dedicating everyday to being an unbelievable b...   \n",
       "2  i make nerdy software for musicians, artists, ...   \n",
       "3          reading things written by old dead people   \n",
       "4                         work work work work + play   \n",
       "\n",
       "                                              essay2  \\\n",
       "0  making people laugh.<br />\\nranting about a go...   \n",
       "1  being silly. having ridiculous amonts of fun w...   \n",
       "2  improvising in different contexts. alternating...   \n",
       "3  playing synthesizers and organizing books acco...   \n",
       "4  creating imagery to look at:<br />\\nhttp://bag...   \n",
       "\n",
       "                                              essay3  ...  \\\n",
       "0  the way i look. i am a six foot half asian, ha...  ...   \n",
       "1                                                NaN  ...   \n",
       "2  my large jaw and large glasses are the physica...  ...   \n",
       "3                  socially awkward but i do my best  ...   \n",
       "4            i smile a lot and my inquisitive nature  ...   \n",
       "\n",
       "                          location  \\\n",
       "0  south san francisco, california   \n",
       "1              oakland, california   \n",
       "2        san francisco, california   \n",
       "3             berkeley, california   \n",
       "4        san francisco, california   \n",
       "\n",
       "                                      offspring orientation  \\\n",
       "0  doesn&rsquo;t have kids, but might want them    straight   \n",
       "1  doesn&rsquo;t have kids, but might want them    straight   \n",
       "2                                           NaN    straight   \n",
       "3                       doesn&rsquo;t want kids    straight   \n",
       "4                                           NaN    straight   \n",
       "\n",
       "                        pets                                  religion sex  \\\n",
       "0  likes dogs and likes cats     agnosticism and very serious about it   m   \n",
       "1  likes dogs and likes cats  agnosticism but not too serious about it   m   \n",
       "2                   has cats                                       NaN   m   \n",
       "3                 likes cats                                       NaN   m   \n",
       "4  likes dogs and likes cats                                       NaN   m   \n",
       "\n",
       "                                 sign     smokes  \\\n",
       "0                              gemini  sometimes   \n",
       "1                              cancer         no   \n",
       "2  pisces but it doesn&rsquo;t matter         no   \n",
       "3                              pisces         no   \n",
       "4                            aquarius         no   \n",
       "\n",
       "                                              speaks     status  \n",
       "0                                            english     single  \n",
       "1  english (fluently), spanish (poorly), french (...     single  \n",
       "2                               english, french, c++  available  \n",
       "3                           english, german (poorly)     single  \n",
       "4                                            english     single  \n",
       "\n",
       "[5 rows x 31 columns]"
      ]
     },
     "execution_count": 4,
     "metadata": {},
     "output_type": "execute_result"
    }
   ],
   "source": [
    "df = pd.read_csv('profiles.csv')\n",
    "df.head()"
   ]
  },
  {
   "cell_type": "markdown",
   "metadata": {},
   "source": [
    "# Exploratory Data Analysis"
   ]
  },
  {
   "cell_type": "markdown",
   "metadata": {},
   "source": [
    "The first thing to explore is whether we have enough of each category (men and women) to make a meaningful machine learning model. If the dataset were, say, 95% men, a machine learning model could just pick 'men' every time and get a 95% accuracy score, making it much harder to evaluate the success of the model."
   ]
  },
  {
   "cell_type": "code",
   "execution_count": 11,
   "metadata": {},
   "outputs": [
    {
     "data": {
      "text/plain": [
       "m    35829\n",
       "f    24117\n",
       "Name: sex, dtype: int64"
      ]
     },
     "execution_count": 11,
     "metadata": {},
     "output_type": "execute_result"
    }
   ],
   "source": [
    "df.sex.value_counts(dropna=False)"
   ]
  },
  {
   "cell_type": "code",
   "execution_count": 12,
   "metadata": {},
   "outputs": [
    {
     "data": {
      "text/plain": [
       "m    0.597688\n",
       "f    0.402312\n",
       "Name: sex, dtype: float64"
      ]
     },
     "execution_count": 12,
     "metadata": {},
     "output_type": "execute_result"
    }
   ],
   "source": [
    "df.sex.value_counts(normalize=True, dropna=False)"
   ]
  },
  {
   "cell_type": "code",
   "execution_count": 8,
   "metadata": {},
   "outputs": [
    {
     "data": {
      "text/plain": [
       "<AxesSubplot:xlabel='sex', ylabel='count'>"
      ]
     },
     "execution_count": 8,
     "metadata": {},
     "output_type": "execute_result"
    },
    {
     "data": {
      "image/png": "[encoded data removed]",
      "text/plain": [
       "<Figure size 432x288 with 1 Axes>"
      ]
     },
     "metadata": {
      "needs_background": "light"
     },
     "output_type": "display_data"
    }
   ],
   "source": [
    "sns.countplot(data=df, x='sex')"
   ]
  },
  {
   "cell_type": "markdown",
   "metadata": {},
   "source": [
    "As we can see, a litte over 40% of the OKCupid users are women, which is an even enough proportion that the machine learning models can be easily evaluated. Also, there are 24117 women total, which is a good amount of data."
   ]
  },
  {
   "cell_type": "markdown",
   "metadata": {},
   "source": [
    "Let's explore the other columns in the dataset - these other columns are the potential variables for our machine learning models."
   ]
  },
  {
   "cell_type": "code",
   "execution_count": 4,
   "metadata": {},
   "outputs": [
    {
     "data": {
      "text/plain": [
       "Index(['age', 'body_type', 'diet', 'drinks', 'drugs', 'education', 'essay0',\n",
       "       'essay1', 'essay2', 'essay3', 'essay4', 'essay5', 'essay6', 'essay7',\n",
       "       'essay8', 'essay9', 'ethnicity', 'height', 'income', 'job',\n",
       "       'last_online', 'location', 'offspring', 'orientation', 'pets',\n",
       "       'religion', 'sex', 'sign', 'smokes', 'speaks', 'status'],\n",
       "      dtype='object')"
      ]
     },
     "execution_count": 4,
     "metadata": {},
     "output_type": "execute_result"
    }
   ],
   "source": [
    "df.columns"
   ]
  },
  {
   "cell_type": "markdown",
   "metadata": {},
   "source": [
    "If we ignore the 10 'essay' columns and our outcome variable, we're left with twenty potential variables to build our machine learning models.\n",
    "\n",
    "**Quantitative**\n",
    "- 'age'\n",
    "- 'height'\n",
    "- 'income' \n",
    "\n",
    "**Categorical**\n",
    "- 'body_type'\n",
    "- 'diet'\n",
    "- 'drinks'\n",
    "- 'drugs'\n",
    "- 'education'\n",
    "- 'ethnicity'\n",
    "- 'job'\n",
    "- 'last_online'\n",
    "- 'location'\n",
    "- 'offspring'\n",
    "- 'orientation'\n",
    "- 'pets'\n",
    "- 'religion'\n",
    "- 'sign'\n",
    "- 'smokes'\n",
    "- 'speaks'\n",
    "- 'status'"
   ]
  },
  {
   "cell_type": "markdown",
   "metadata": {},
   "source": [
    "Let's look at these one by one and see if the data has enough predictive power to use in the model!"
   ]
  },
  {
   "cell_type": "markdown",
   "metadata": {},
   "source": [
    "### Quantitative Variables"
   ]
  },
  {
   "cell_type": "markdown",
   "metadata": {},
   "source": [
    "#### Age"
   ]
  },
  {
   "cell_type": "code",
   "execution_count": 27,
   "metadata": {},
   "outputs": [
    {
     "data": {
      "text/plain": [
       "[Text(0.5, 1.0, 'Age distribution by sex')]"
      ]
     },
     "execution_count": 27,
     "metadata": {},
     "output_type": "execute_result"
    },
    {
     "data": {
      "image/png": "[encoded data removed]",
      "text/plain": [
       "<Figure size 432x288 with 1 Axes>"
      ]
     },
     "metadata": {
      "needs_background": "light"
     },
     "output_type": "display_data"
    }
   ],
   "source": [
    "sns.kdeplot(data=df, x='age', hue='sex', fill=True).set(title='Age distribution by sex')"
   ]
  },
  {
   "cell_type": "markdown",
   "metadata": {},
   "source": [
    "As one might expect, there are very similar distributions in terms of shape for both sexes, with the vast majority of users falling between 20 and 40. \n",
    "\n",
    "However, the disparate numbers of men and women makes it hard to how similar these are in terms of central tendency, so let's look at a box plot. "
   ]
  },
  {
   "cell_type": "code",
   "execution_count": 31,
   "metadata": {},
   "outputs": [
    {
     "data": {
      "text/plain": [
       "[Text(0.5, 1.0, 'Age distribution by sex')]"
      ]
     },
     "execution_count": 31,
     "metadata": {},
     "output_type": "execute_result"
    },
    {
     "data": {
      "image/png": "[encoded data removed]",
      "text/plain": [
       "<Figure size 432x288 with 1 Axes>"
      ]
     },
     "metadata": {
      "needs_background": "light"
     },
     "output_type": "display_data"
    }
   ],
   "source": [
    "sns.boxplot(data=df, x='age', y='sex').set(title='Age distribution by sex')"
   ]
  },
  {
   "cell_type": "markdown",
   "metadata": {},
   "source": [
    "These are essentially identical, making it unlikely that **age** would have enough predictive power to make it worth including."
   ]
  },
  {
   "cell_type": "markdown",
   "metadata": {},
   "source": [
    "#### Height"
   ]
  },
  {
   "cell_type": "code",
   "execution_count": 101,
   "metadata": {},
   "outputs": [
    {
     "data": {
      "text/plain": [
       "[Text(0.5, 1.0, 'Height distribution by sex')]"
      ]
     },
     "execution_count": 101,
     "metadata": {},
     "output_type": "execute_result"
    },
    {
     "data": {
      "image/png": "[encoded data removed]",
      "text/plain": [
       "<Figure size 432x288 with 1 Axes>"
      ]
     },
     "metadata": {
      "needs_background": "light"
     },
     "output_type": "display_data"
    }
   ],
   "source": [
    "sns.kdeplot(data=df, x='height', hue='sex', fill=True).set(title='Height distribution by sex')"
   ]
  },
  {
   "cell_type": "markdown",
   "metadata": {},
   "source": [
    "Although both distributions are roughly normal, it is clear that men on average are taller. This factor, **height**, would have strong predictive power."
   ]
  },
  {
   "cell_type": "markdown",
   "metadata": {},
   "source": [
    "#### Income"
   ]
  },
  {
   "cell_type": "code",
   "execution_count": 100,
   "metadata": {},
   "outputs": [
    {
     "data": {
      "text/plain": [
       "[Text(0.5, 1.0, 'Income distribution by sex')]"
      ]
     },
     "execution_count": 100,
     "metadata": {},
     "output_type": "execute_result"
    },
    {
     "data": {
      "image/png": "[encoded data removed]",
      "text/plain": [
       "<Figure size 432x288 with 1 Axes>"
      ]
     },
     "metadata": {
      "needs_background": "light"
     },
     "output_type": "display_data"
    }
   ],
   "source": [
    "sns.kdeplot(data=df, x='income', hue='sex', fill=True).set(title='Income distribution by sex')"
   ]
  },
  {
   "cell_type": "markdown",
   "metadata": {},
   "source": [
    "This last graph has a very odd shape! Let's take a look at the data to see what's going on."
   ]
  },
  {
   "cell_type": "code",
   "execution_count": 8,
   "metadata": {},
   "outputs": [
    {
     "data": {
      "text/plain": [
       "-1          48442\n",
       " 20000       2952\n",
       " 100000      1621\n",
       " 80000       1111\n",
       " 30000       1048\n",
       " 40000       1005\n",
       " 50000        975\n",
       " 60000        736\n",
       " 70000        707\n",
       " 150000       631\n",
       " 1000000      521\n",
       " 250000       149\n",
       " 500000        48\n",
       "Name: income, dtype: int64"
      ]
     },
     "execution_count": 8,
     "metadata": {},
     "output_type": "execute_result"
    }
   ],
   "source": [
    "df.income.value_counts()"
   ]
  },
  {
   "cell_type": "markdown",
   "metadata": {},
   "source": [
    "The overwhelming majority of users list their income as '-1' for some reason, so this **income** data really isn't useable as it is. We could remove the '-1's of course, but that would mean that we would also lose 48442 rows of data!"
   ]
  },
  {
   "cell_type": "markdown",
   "metadata": {},
   "source": [
    "### Categorical Variables"
   ]
  },
  {
   "cell_type": "markdown",
   "metadata": {},
   "source": [
    "All in all, we have 17 columns of responses left to cover. Which is really quite a lot! In the interests of performing our EDA properly, I'll remove any of these variables that are unlikely to be useful for the machine learning models before we start. But how can we know in advance which variables will be particularly useful for our models? There are two factors that we can focus on: **number of potential responses** and **number of NaNs**.\n",
    "\n",
    "If the number of potential responses is very high, we risk creating a very unwieldy dataset for our model to work with. Why? Because for every response to the question, we are going to create a new column, with either a 0 or a 1 (i.e., did/ didn't give this answer to this question). These new columns are known as dummy variables. If we have a column, or multiple columns, with thousands of different responses, this may be very computationally demanding.\n",
    "\n",
    "If a column has a large number of NaNs, this can cause problems. If there is in NaN in the column in question, we may end up having to remove that row entirely, which, depending on the number of NaNs in the column, may involve us deleting a large part of our dataset. The alternative is to simply fill with a 0 (effectively a 'didn't answer') for each of our dummy variables in the case of an NaN. This is fine when there are only a few NaNs, but do this enough times and the accuracy of the model may be compromised."
   ]
  },
  {
   "cell_type": "code",
   "execution_count": 66,
   "metadata": {
    "scrolled": true
   },
   "outputs": [
    {
     "data": {
      "text/plain": [
       "['body_type',\n",
       " 'diet',\n",
       " 'drinks',\n",
       " 'drugs',\n",
       " 'job',\n",
       " 'offspring',\n",
       " 'orientation',\n",
       " 'pets',\n",
       " 'smokes',\n",
       " 'status']"
      ]
     },
     "execution_count": 66,
     "metadata": {},
     "output_type": "execute_result"
    }
   ],
   "source": [
    "cat_col_names = ['body_type', 'diet', 'drinks', 'drugs', 'education', 'ethnicity', 'job', 'last_online', 'location', 'offspring', 'orientation', 'pets', 'religion', 'sign', 'smokes', 'speaks', 'status']\n",
    "\n",
    "cat_col = []\n",
    "\n",
    "for col in cat_col_names:\n",
    "    if df[col].nunique() <= 25:\n",
    "        cat_col.append(col)\n",
    "        \n",
    "cat_col"
   ]
  },
  {
   "cell_type": "markdown",
   "metadata": {},
   "source": [
    "OK, so we've gone from 17 total columns to 10. That's a pretty large whittling down of the potential columns, simply by limiting the number of potential answers to 25!"
   ]
  },
  {
   "cell_type": "markdown",
   "metadata": {},
   "source": [
    "Let's further whittle down our potential pool of variables by removing any column that includes more than 20% NaN values."
   ]
  },
  {
   "cell_type": "code",
   "execution_count": 64,
   "metadata": {},
   "outputs": [
    {
     "data": {
      "text/plain": [
       "['body_type', 'drinks', 'job', 'orientation', 'smokes', 'status']"
      ]
     },
     "execution_count": 64,
     "metadata": {},
     "output_type": "execute_result"
    }
   ],
   "source": [
    "cat_cols = []\n",
    "for col in cat_col:\n",
    "    if (sum(df[col].isna()) / len(df[col])) < 0.2:\n",
    "        cat_cols.append(col)\n",
    "cat_cols"
   ]
  },
  {
   "cell_type": "markdown",
   "metadata": {},
   "source": [
    "We're now down to just 6 potential variables. Let's visualise this data to see if it is differentiated enough by sex to make it worth including."
   ]
  },
  {
   "cell_type": "markdown",
   "metadata": {},
   "source": [
    "#### Body Type"
   ]
  },
  {
   "cell_type": "code",
   "execution_count": 44,
   "metadata": {},
   "outputs": [
    {
     "data": {
      "text/plain": [
       "[Text(0.5, 1.0, 'Body Type by sex')]"
      ]
     },
     "execution_count": 44,
     "metadata": {},
     "output_type": "execute_result"
    },
    {
     "data": {
      "image/png": "[encoded data removed]",
      "text/plain": [
       "<Figure size 432x288 with 1 Axes>"
      ]
     },
     "metadata": {
      "needs_background": "light"
     },
     "output_type": "display_data"
    }
   ],
   "source": [
    "sns.countplot(data=df, y='body_type', hue='sex', order=df.body_type.value_counts().index).set(title='Body Type by sex')"
   ]
  },
  {
   "cell_type": "markdown",
   "metadata": {},
   "source": [
    "It seems like responses to the **body type** question differ strongly be sex, and thus this factor would have strong predictive power.\n",
    "\n",
    "Interestingly, this seems like a fairly clear case of gendered language (note 'skinny' and 'full-figured') rather than actual body type, which would likely be far less differentiated by sex."
   ]
  },
  {
   "cell_type": "markdown",
   "metadata": {},
   "source": [
    "#### Drinks"
   ]
  },
  {
   "cell_type": "code",
   "execution_count": 48,
   "metadata": {},
   "outputs": [
    {
     "data": {
      "text/plain": [
       "[Text(0.5, 1.0, 'Drink by sex')]"
      ]
     },
     "execution_count": 48,
     "metadata": {},
     "output_type": "execute_result"
    },
    {
     "data": {
      "image/png": "[encoded data removed]",
      "text/plain": [
       "<Figure size 432x288 with 1 Axes>"
      ]
     },
     "metadata": {
      "needs_background": "light"
     },
     "output_type": "display_data"
    }
   ],
   "source": [
    "sns.countplot(data=df, y='drinks', hue='sex', order=df.drinks.value_counts().index).set(title='Drink by sex')"
   ]
  },
  {
   "cell_type": "markdown",
   "metadata": {},
   "source": [
    "This factor, **drinks**, doesn't seem very differentiated by sex, so will not be particulary useful for our model."
   ]
  },
  {
   "cell_type": "markdown",
   "metadata": {},
   "source": [
    "#### Jobs"
   ]
  },
  {
   "cell_type": "code",
   "execution_count": 53,
   "metadata": {},
   "outputs": [
    {
     "data": {
      "text/plain": [
       "[Text(0.5, 1.0, 'Jobs by sex')]"
      ]
     },
     "execution_count": 53,
     "metadata": {},
     "output_type": "execute_result"
    },
    {
     "data": {
      "image/png": "[encoded data removed]",
      "text/plain": [
       "<Figure size 432x288 with 1 Axes>"
      ]
     },
     "metadata": {
      "needs_background": "light"
     },
     "output_type": "display_data"
    }
   ],
   "source": [
    "sns.countplot(data=df, y='job', hue='sex', order=df.job.value_counts().index).set(title='Jobs by sex')"
   ]
  },
  {
   "cell_type": "markdown",
   "metadata": {},
   "source": [
    "This factor, **jobs**, has many factors that seem highly sex differentiated. See, for example, 'science/tech/engineering' and 'education/academia'. This would likely have high predictive power and could very well be useful for our model."
   ]
  },
  {
   "cell_type": "markdown",
   "metadata": {},
   "source": [
    "#### Orientation"
   ]
  },
  {
   "cell_type": "code",
   "execution_count": 75,
   "metadata": {},
   "outputs": [
    {
     "data": {
      "text/plain": [
       "[Text(0.5, 1.0, 'Sexual orientation by sex')]"
      ]
     },
     "execution_count": 75,
     "metadata": {},
     "output_type": "execute_result"
    },
    {
     "data": {
      "image/png": "[encoded data removed]",
      "text/plain": [
       "<Figure size 432x288 with 1 Axes>"
      ]
     },
     "metadata": {
      "needs_background": "light"
     },
     "output_type": "display_data"
    }
   ],
   "source": [
    "sns.countplot(data=df, y='orientation', hue='sex', order=df.orientation.value_counts().index).set(title='Sexual orientation by sex')"
   ]
  },
  {
   "cell_type": "markdown",
   "metadata": {},
   "source": [
    "Interestingly, this factor, **orientation**, seems quite sex-differentiated, at least when it comes to gay and bisexual people."
   ]
  },
  {
   "cell_type": "markdown",
   "metadata": {},
   "source": [
    "#### Smokes"
   ]
  },
  {
   "cell_type": "code",
   "execution_count": 74,
   "metadata": {},
   "outputs": [
    {
     "data": {
      "text/plain": [
       "[Text(0.5, 1.0, 'Smoking status by sex')]"
      ]
     },
     "execution_count": 74,
     "metadata": {},
     "output_type": "execute_result"
    },
    {
     "data": {
      "image/png": "[encoded data removed]",
      "text/plain": [
       "<Figure size 432x288 with 1 Axes>"
      ]
     },
     "metadata": {
      "needs_background": "light"
     },
     "output_type": "display_data"
    }
   ],
   "source": [
    "sns.countplot(data=df, y='smokes', hue='sex', order=df.smokes.value_counts().index).set(title='Smoking status by sex')"
   ]
  },
  {
   "cell_type": "markdown",
   "metadata": {},
   "source": [
    "This factor, **smokes**, doesn't seem very differentiated by sex, so will not be particulary useful for our model."
   ]
  },
  {
   "cell_type": "markdown",
   "metadata": {},
   "source": [
    "#### Status"
   ]
  },
  {
   "cell_type": "code",
   "execution_count": 78,
   "metadata": {},
   "outputs": [
    {
     "data": {
      "text/plain": [
       "[Text(0.5, 1.0, 'Relationship status by sex')]"
      ]
     },
     "execution_count": 78,
     "metadata": {},
     "output_type": "execute_result"
    },
    {
     "data": {
      "image/png": "[encoded data removed]",
      "text/plain": [
       "<Figure size 432x288 with 1 Axes>"
      ]
     },
     "metadata": {
      "needs_background": "light"
     },
     "output_type": "display_data"
    }
   ],
   "source": [
    "sns.countplot(data=df, y='status', hue='sex', order=df.status.value_counts().index).set(title='Relationship status by sex')"
   ]
  },
  {
   "cell_type": "markdown",
   "metadata": {},
   "source": [
    "This factor, **status**, doesn't seem very differentiated by sex, so will not be particulary useful for our model."
   ]
  },
  {
   "cell_type": "markdown",
   "metadata": {},
   "source": [
    "To conclude, the variables that we will include in our model are: height, body type, jobs, and (sexual) orientation."
   ]
  },
  {
   "cell_type": "markdown",
   "metadata": {},
   "source": [
    "# Data Preparation"
   ]
  },
  {
   "cell_type": "markdown",
   "metadata": {},
   "source": [
    "#### Dropping NaNs"
   ]
  },
  {
   "cell_type": "markdown",
   "metadata": {},
   "source": [
    "The first thing we need to do is check for NaNs in the dataset. In this case, because we've removed the columns that had a lot of NaNs, we should be able to simply remove the rows that include NaNs. Let's see how many rows we lose by simply dropping the NaNs."
   ]
  },
  {
   "cell_type": "code",
   "execution_count": 5,
   "metadata": {},
   "outputs": [
    {
     "data": {
      "text/plain": [
       "(59946, 5)"
      ]
     },
     "execution_count": 5,
     "metadata": {},
     "output_type": "execute_result"
    }
   ],
   "source": [
    "columns = ['height', 'body_type', 'job', 'orientation', 'sex']\n",
    "new_df = df[columns]\n",
    "new_df.shape"
   ]
  },
  {
   "cell_type": "code",
   "execution_count": 6,
   "metadata": {},
   "outputs": [
    {
     "data": {
      "text/plain": [
       "height            3\n",
       "body_type      5296\n",
       "job            8198\n",
       "orientation       0\n",
       "sex               0\n",
       "dtype: int64"
      ]
     },
     "execution_count": 6,
     "metadata": {},
     "output_type": "execute_result"
    }
   ],
   "source": [
    "new_df.isnull().sum()"
   ]
  },
  {
   "cell_type": "code",
   "execution_count": 7,
   "metadata": {},
   "outputs": [
    {
     "data": {
      "text/plain": [
       "(47791, 5)"
      ]
     },
     "execution_count": 7,
     "metadata": {},
     "output_type": "execute_result"
    }
   ],
   "source": [
    "new_df = new_df.dropna()\n",
    "new_df.shape"
   ]
  },
  {
   "cell_type": "markdown",
   "metadata": {},
   "source": [
    "48000 rows should be more than sufficient for training purposes. But has this affected the proportion of male to female users?"
   ]
  },
  {
   "cell_type": "code",
   "execution_count": 8,
   "metadata": {},
   "outputs": [
    {
     "data": {
      "text/plain": [
       "m    0.612521\n",
       "f    0.387479\n",
       "Name: sex, dtype: float64"
      ]
     },
     "execution_count": 8,
     "metadata": {},
     "output_type": "execute_result"
    }
   ],
   "source": [
    "new_df.sex.value_counts(normalize=True)"
   ]
  },
  {
   "cell_type": "markdown",
   "metadata": {},
   "source": [
    "The proportion of female users has only dropped by around a percentage point, so this proportion is acceptable."
   ]
  },
  {
   "cell_type": "markdown",
   "metadata": {},
   "source": [
    "#### Dummy Variables"
   ]
  },
  {
   "cell_type": "markdown",
   "metadata": {},
   "source": [
    "Next we create dummy variables from our categorical variables. Dummy variables turn each answer to each question into a binary classifier (i.e. 'answered this', 'did not answer this')."
   ]
  },
  {
   "cell_type": "code",
   "execution_count": 9,
   "metadata": {},
   "outputs": [
    {
     "data": {
      "text/html": [
       "<div>\n",
       "<style scoped>\n",
       "    .dataframe tbody tr th:only-of-type {\n",
       "        vertical-align: middle;\n",
       "    }\n",
       "\n",
       "    .dataframe tbody tr th {\n",
       "        vertical-align: top;\n",
       "    }\n",
       "\n",
       "    .dataframe thead th {\n",
       "        text-align: right;\n",
       "    }\n",
       "</style>\n",
       "<table border=\"1\" class=\"dataframe\">\n",
       "  <thead>\n",
       "    <tr style=\"text-align: right;\">\n",
       "      <th></th>\n",
       "      <th>height</th>\n",
       "      <th>sex</th>\n",
       "      <th>body_type_a little extra</th>\n",
       "      <th>body_type_athletic</th>\n",
       "      <th>body_type_average</th>\n",
       "      <th>body_type_curvy</th>\n",
       "      <th>body_type_fit</th>\n",
       "      <th>body_type_full figured</th>\n",
       "      <th>body_type_jacked</th>\n",
       "      <th>body_type_overweight</th>\n",
       "      <th>...</th>\n",
       "      <th>job_rather not say</th>\n",
       "      <th>job_retired</th>\n",
       "      <th>job_sales / marketing / biz dev</th>\n",
       "      <th>job_science / tech / engineering</th>\n",
       "      <th>job_student</th>\n",
       "      <th>job_transportation</th>\n",
       "      <th>job_unemployed</th>\n",
       "      <th>orientation_bisexual</th>\n",
       "      <th>orientation_gay</th>\n",
       "      <th>orientation_straight</th>\n",
       "    </tr>\n",
       "  </thead>\n",
       "  <tbody>\n",
       "    <tr>\n",
       "      <th>0</th>\n",
       "      <td>75.0</td>\n",
       "      <td>m</td>\n",
       "      <td>1</td>\n",
       "      <td>0</td>\n",
       "      <td>0</td>\n",
       "      <td>0</td>\n",
       "      <td>0</td>\n",
       "      <td>0</td>\n",
       "      <td>0</td>\n",
       "      <td>0</td>\n",
       "      <td>...</td>\n",
       "      <td>0</td>\n",
       "      <td>0</td>\n",
       "      <td>0</td>\n",
       "      <td>0</td>\n",
       "      <td>0</td>\n",
       "      <td>1</td>\n",
       "      <td>0</td>\n",
       "      <td>0</td>\n",
       "      <td>0</td>\n",
       "      <td>1</td>\n",
       "    </tr>\n",
       "    <tr>\n",
       "      <th>1</th>\n",
       "      <td>70.0</td>\n",
       "      <td>m</td>\n",
       "      <td>0</td>\n",
       "      <td>0</td>\n",
       "      <td>1</td>\n",
       "      <td>0</td>\n",
       "      <td>0</td>\n",
       "      <td>0</td>\n",
       "      <td>0</td>\n",
       "      <td>0</td>\n",
       "      <td>...</td>\n",
       "      <td>0</td>\n",
       "      <td>0</td>\n",
       "      <td>0</td>\n",
       "      <td>0</td>\n",
       "      <td>0</td>\n",
       "      <td>0</td>\n",
       "      <td>0</td>\n",
       "      <td>0</td>\n",
       "      <td>0</td>\n",
       "      <td>1</td>\n",
       "    </tr>\n",
       "    <tr>\n",
       "      <th>3</th>\n",
       "      <td>71.0</td>\n",
       "      <td>m</td>\n",
       "      <td>0</td>\n",
       "      <td>0</td>\n",
       "      <td>0</td>\n",
       "      <td>0</td>\n",
       "      <td>0</td>\n",
       "      <td>0</td>\n",
       "      <td>0</td>\n",
       "      <td>0</td>\n",
       "      <td>...</td>\n",
       "      <td>0</td>\n",
       "      <td>0</td>\n",
       "      <td>0</td>\n",
       "      <td>0</td>\n",
       "      <td>1</td>\n",
       "      <td>0</td>\n",
       "      <td>0</td>\n",
       "      <td>0</td>\n",
       "      <td>0</td>\n",
       "      <td>1</td>\n",
       "    </tr>\n",
       "    <tr>\n",
       "      <th>4</th>\n",
       "      <td>66.0</td>\n",
       "      <td>m</td>\n",
       "      <td>0</td>\n",
       "      <td>1</td>\n",
       "      <td>0</td>\n",
       "      <td>0</td>\n",
       "      <td>0</td>\n",
       "      <td>0</td>\n",
       "      <td>0</td>\n",
       "      <td>0</td>\n",
       "      <td>...</td>\n",
       "      <td>0</td>\n",
       "      <td>0</td>\n",
       "      <td>0</td>\n",
       "      <td>0</td>\n",
       "      <td>0</td>\n",
       "      <td>0</td>\n",
       "      <td>0</td>\n",
       "      <td>0</td>\n",
       "      <td>0</td>\n",
       "      <td>1</td>\n",
       "    </tr>\n",
       "    <tr>\n",
       "      <th>5</th>\n",
       "      <td>67.0</td>\n",
       "      <td>m</td>\n",
       "      <td>0</td>\n",
       "      <td>0</td>\n",
       "      <td>1</td>\n",
       "      <td>0</td>\n",
       "      <td>0</td>\n",
       "      <td>0</td>\n",
       "      <td>0</td>\n",
       "      <td>0</td>\n",
       "      <td>...</td>\n",
       "      <td>0</td>\n",
       "      <td>0</td>\n",
       "      <td>0</td>\n",
       "      <td>0</td>\n",
       "      <td>0</td>\n",
       "      <td>0</td>\n",
       "      <td>0</td>\n",
       "      <td>0</td>\n",
       "      <td>0</td>\n",
       "      <td>1</td>\n",
       "    </tr>\n",
       "    <tr>\n",
       "      <th>...</th>\n",
       "      <td>...</td>\n",
       "      <td>...</td>\n",
       "      <td>...</td>\n",
       "      <td>...</td>\n",
       "      <td>...</td>\n",
       "      <td>...</td>\n",
       "      <td>...</td>\n",
       "      <td>...</td>\n",
       "      <td>...</td>\n",
       "      <td>...</td>\n",
       "      <td>...</td>\n",
       "      <td>...</td>\n",
       "      <td>...</td>\n",
       "      <td>...</td>\n",
       "      <td>...</td>\n",
       "      <td>...</td>\n",
       "      <td>...</td>\n",
       "      <td>...</td>\n",
       "      <td>...</td>\n",
       "      <td>...</td>\n",
       "      <td>...</td>\n",
       "    </tr>\n",
       "    <tr>\n",
       "      <th>59937</th>\n",
       "      <td>69.0</td>\n",
       "      <td>m</td>\n",
       "      <td>0</td>\n",
       "      <td>0</td>\n",
       "      <td>0</td>\n",
       "      <td>0</td>\n",
       "      <td>0</td>\n",
       "      <td>0</td>\n",
       "      <td>0</td>\n",
       "      <td>0</td>\n",
       "      <td>...</td>\n",
       "      <td>0</td>\n",
       "      <td>0</td>\n",
       "      <td>0</td>\n",
       "      <td>0</td>\n",
       "      <td>0</td>\n",
       "      <td>0</td>\n",
       "      <td>0</td>\n",
       "      <td>1</td>\n",
       "      <td>0</td>\n",
       "      <td>0</td>\n",
       "    </tr>\n",
       "    <tr>\n",
       "      <th>59942</th>\n",
       "      <td>72.0</td>\n",
       "      <td>m</td>\n",
       "      <td>0</td>\n",
       "      <td>0</td>\n",
       "      <td>0</td>\n",
       "      <td>0</td>\n",
       "      <td>1</td>\n",
       "      <td>0</td>\n",
       "      <td>0</td>\n",
       "      <td>0</td>\n",
       "      <td>...</td>\n",
       "      <td>0</td>\n",
       "      <td>0</td>\n",
       "      <td>0</td>\n",
       "      <td>0</td>\n",
       "      <td>0</td>\n",
       "      <td>0</td>\n",
       "      <td>0</td>\n",
       "      <td>0</td>\n",
       "      <td>0</td>\n",
       "      <td>1</td>\n",
       "    </tr>\n",
       "    <tr>\n",
       "      <th>59943</th>\n",
       "      <td>71.0</td>\n",
       "      <td>m</td>\n",
       "      <td>0</td>\n",
       "      <td>0</td>\n",
       "      <td>1</td>\n",
       "      <td>0</td>\n",
       "      <td>0</td>\n",
       "      <td>0</td>\n",
       "      <td>0</td>\n",
       "      <td>0</td>\n",
       "      <td>...</td>\n",
       "      <td>0</td>\n",
       "      <td>0</td>\n",
       "      <td>0</td>\n",
       "      <td>0</td>\n",
       "      <td>0</td>\n",
       "      <td>0</td>\n",
       "      <td>0</td>\n",
       "      <td>0</td>\n",
       "      <td>0</td>\n",
       "      <td>1</td>\n",
       "    </tr>\n",
       "    <tr>\n",
       "      <th>59944</th>\n",
       "      <td>73.0</td>\n",
       "      <td>m</td>\n",
       "      <td>0</td>\n",
       "      <td>1</td>\n",
       "      <td>0</td>\n",
       "      <td>0</td>\n",
       "      <td>0</td>\n",
       "      <td>0</td>\n",
       "      <td>0</td>\n",
       "      <td>0</td>\n",
       "      <td>...</td>\n",
       "      <td>0</td>\n",
       "      <td>0</td>\n",
       "      <td>0</td>\n",
       "      <td>0</td>\n",
       "      <td>0</td>\n",
       "      <td>0</td>\n",
       "      <td>0</td>\n",
       "      <td>0</td>\n",
       "      <td>0</td>\n",
       "      <td>1</td>\n",
       "    </tr>\n",
       "    <tr>\n",
       "      <th>59945</th>\n",
       "      <td>68.0</td>\n",
       "      <td>m</td>\n",
       "      <td>0</td>\n",
       "      <td>0</td>\n",
       "      <td>1</td>\n",
       "      <td>0</td>\n",
       "      <td>0</td>\n",
       "      <td>0</td>\n",
       "      <td>0</td>\n",
       "      <td>0</td>\n",
       "      <td>...</td>\n",
       "      <td>0</td>\n",
       "      <td>0</td>\n",
       "      <td>0</td>\n",
       "      <td>0</td>\n",
       "      <td>0</td>\n",
       "      <td>0</td>\n",
       "      <td>0</td>\n",
       "      <td>0</td>\n",
       "      <td>1</td>\n",
       "      <td>0</td>\n",
       "    </tr>\n",
       "  </tbody>\n",
       "</table>\n",
       "<p>47791 rows × 38 columns</p>\n",
       "</div>"
      ],
      "text/plain": [
       "       height sex  body_type_a little extra  body_type_athletic  \\\n",
       "0        75.0   m                         1                   0   \n",
       "1        70.0   m                         0                   0   \n",
       "3        71.0   m                         0                   0   \n",
       "4        66.0   m                         0                   1   \n",
       "5        67.0   m                         0                   0   \n",
       "...       ...  ..                       ...                 ...   \n",
       "59937    69.0   m                         0                   0   \n",
       "59942    72.0   m                         0                   0   \n",
       "59943    71.0   m                         0                   0   \n",
       "59944    73.0   m                         0                   1   \n",
       "59945    68.0   m                         0                   0   \n",
       "\n",
       "       body_type_average  body_type_curvy  body_type_fit  \\\n",
       "0                      0                0              0   \n",
       "1                      1                0              0   \n",
       "3                      0                0              0   \n",
       "4                      0                0              0   \n",
       "5                      1                0              0   \n",
       "...                  ...              ...            ...   \n",
       "59937                  0                0              0   \n",
       "59942                  0                0              1   \n",
       "59943                  1                0              0   \n",
       "59944                  0                0              0   \n",
       "59945                  1                0              0   \n",
       "\n",
       "       body_type_full figured  body_type_jacked  body_type_overweight  ...  \\\n",
       "0                           0                 0                     0  ...   \n",
       "1                           0                 0                     0  ...   \n",
       "3                           0                 0                     0  ...   \n",
       "4                           0                 0                     0  ...   \n",
       "5                           0                 0                     0  ...   \n",
       "...                       ...               ...                   ...  ...   \n",
       "59937                       0                 0                     0  ...   \n",
       "59942                       0                 0                     0  ...   \n",
       "59943                       0                 0                     0  ...   \n",
       "59944                       0                 0                     0  ...   \n",
       "59945                       0                 0                     0  ...   \n",
       "\n",
       "       job_rather not say  job_retired  job_sales / marketing / biz dev  \\\n",
       "0                       0            0                                0   \n",
       "1                       0            0                                0   \n",
       "3                       0            0                                0   \n",
       "4                       0            0                                0   \n",
       "5                       0            0                                0   \n",
       "...                   ...          ...                              ...   \n",
       "59937                   0            0                                0   \n",
       "59942                   0            0                                0   \n",
       "59943                   0            0                                0   \n",
       "59944                   0            0                                0   \n",
       "59945                   0            0                                0   \n",
       "\n",
       "       job_science / tech / engineering  job_student  job_transportation  \\\n",
       "0                                     0            0                   1   \n",
       "1                                     0            0                   0   \n",
       "3                                     0            1                   0   \n",
       "4                                     0            0                   0   \n",
       "5                                     0            0                   0   \n",
       "...                                 ...          ...                 ...   \n",
       "59937                                 0            0                   0   \n",
       "59942                                 0            0                   0   \n",
       "59943                                 0            0                   0   \n",
       "59944                                 0            0                   0   \n",
       "59945                                 0            0                   0   \n",
       "\n",
       "       job_unemployed  orientation_bisexual  orientation_gay  \\\n",
       "0                   0                     0                0   \n",
       "1                   0                     0                0   \n",
       "3                   0                     0                0   \n",
       "4                   0                     0                0   \n",
       "5                   0                     0                0   \n",
       "...               ...                   ...              ...   \n",
       "59937               0                     1                0   \n",
       "59942               0                     0                0   \n",
       "59943               0                     0                0   \n",
       "59944               0                     0                0   \n",
       "59945               0                     0                1   \n",
       "\n",
       "       orientation_straight  \n",
       "0                         1  \n",
       "1                         1  \n",
       "3                         1  \n",
       "4                         1  \n",
       "5                         1  \n",
       "...                     ...  \n",
       "59937                     0  \n",
       "59942                     1  \n",
       "59943                     1  \n",
       "59944                     1  \n",
       "59945                     0  \n",
       "\n",
       "[47791 rows x 38 columns]"
      ]
     },
     "execution_count": 9,
     "metadata": {},
     "output_type": "execute_result"
    }
   ],
   "source": [
    "categorical = ['body_type', 'job', 'orientation', 'sex']\n",
    "# N.B. not including 'sex' in the dummy variables to avoid the dummy variable trap \n",
    "for col in categorical[:-1]:\n",
    "    new_df = pd.get_dummies(new_df, columns=[col], prefix=[col])\n",
    "new_df"
   ]
  },
  {
   "cell_type": "markdown",
   "metadata": {},
   "source": [
    "The dataframe now has 38 columns."
   ]
  },
  {
   "cell_type": "markdown",
   "metadata": {},
   "source": [
    "#### Normalisation"
   ]
  },
  {
   "cell_type": "markdown",
   "metadata": {},
   "source": [
    "Now that we've dealt with the categorical variables, we also have to deal with the quantitative variable - height. Because we've turned all the categorical variables into binary columns, we will now use min-max normalisation to give each user's height a value between 1 and 0."
   ]
  },
  {
   "cell_type": "code",
   "execution_count": 10,
   "metadata": {},
   "outputs": [
    {
     "data": {
      "text/html": [
       "<div>\n",
       "<style scoped>\n",
       "    .dataframe tbody tr th:only-of-type {\n",
       "        vertical-align: middle;\n",
       "    }\n",
       "\n",
       "    .dataframe tbody tr th {\n",
       "        vertical-align: top;\n",
       "    }\n",
       "\n",
       "    .dataframe thead th {\n",
       "        text-align: right;\n",
       "    }\n",
       "</style>\n",
       "<table border=\"1\" class=\"dataframe\">\n",
       "  <thead>\n",
       "    <tr style=\"text-align: right;\">\n",
       "      <th></th>\n",
       "      <th>height</th>\n",
       "      <th>sex</th>\n",
       "      <th>body_type_a little extra</th>\n",
       "      <th>body_type_athletic</th>\n",
       "      <th>body_type_average</th>\n",
       "      <th>body_type_curvy</th>\n",
       "      <th>body_type_fit</th>\n",
       "      <th>body_type_full figured</th>\n",
       "      <th>body_type_jacked</th>\n",
       "      <th>body_type_overweight</th>\n",
       "      <th>...</th>\n",
       "      <th>job_rather not say</th>\n",
       "      <th>job_retired</th>\n",
       "      <th>job_sales / marketing / biz dev</th>\n",
       "      <th>job_science / tech / engineering</th>\n",
       "      <th>job_student</th>\n",
       "      <th>job_transportation</th>\n",
       "      <th>job_unemployed</th>\n",
       "      <th>orientation_bisexual</th>\n",
       "      <th>orientation_gay</th>\n",
       "      <th>orientation_straight</th>\n",
       "    </tr>\n",
       "  </thead>\n",
       "  <tbody>\n",
       "    <tr>\n",
       "      <th>0</th>\n",
       "      <td>0.795918</td>\n",
       "      <td>m</td>\n",
       "      <td>1</td>\n",
       "      <td>0</td>\n",
       "      <td>0</td>\n",
       "      <td>0</td>\n",
       "      <td>0</td>\n",
       "      <td>0</td>\n",
       "      <td>0</td>\n",
       "      <td>0</td>\n",
       "      <td>...</td>\n",
       "      <td>0</td>\n",
       "      <td>0</td>\n",
       "      <td>0</td>\n",
       "      <td>0</td>\n",
       "      <td>0</td>\n",
       "      <td>1</td>\n",
       "      <td>0</td>\n",
       "      <td>0</td>\n",
       "      <td>0</td>\n",
       "      <td>1</td>\n",
       "    </tr>\n",
       "    <tr>\n",
       "      <th>1</th>\n",
       "      <td>0.744898</td>\n",
       "      <td>m</td>\n",
       "      <td>0</td>\n",
       "      <td>0</td>\n",
       "      <td>1</td>\n",
       "      <td>0</td>\n",
       "      <td>0</td>\n",
       "      <td>0</td>\n",
       "      <td>0</td>\n",
       "      <td>0</td>\n",
       "      <td>...</td>\n",
       "      <td>0</td>\n",
       "      <td>0</td>\n",
       "      <td>0</td>\n",
       "      <td>0</td>\n",
       "      <td>0</td>\n",
       "      <td>0</td>\n",
       "      <td>0</td>\n",
       "      <td>0</td>\n",
       "      <td>0</td>\n",
       "      <td>1</td>\n",
       "    </tr>\n",
       "    <tr>\n",
       "      <th>3</th>\n",
       "      <td>0.755102</td>\n",
       "      <td>m</td>\n",
       "      <td>0</td>\n",
       "      <td>0</td>\n",
       "      <td>0</td>\n",
       "      <td>0</td>\n",
       "      <td>0</td>\n",
       "      <td>0</td>\n",
       "      <td>0</td>\n",
       "      <td>0</td>\n",
       "      <td>...</td>\n",
       "      <td>0</td>\n",
       "      <td>0</td>\n",
       "      <td>0</td>\n",
       "      <td>0</td>\n",
       "      <td>1</td>\n",
       "      <td>0</td>\n",
       "      <td>0</td>\n",
       "      <td>0</td>\n",
       "      <td>0</td>\n",
       "      <td>1</td>\n",
       "    </tr>\n",
       "    <tr>\n",
       "      <th>4</th>\n",
       "      <td>0.704082</td>\n",
       "      <td>m</td>\n",
       "      <td>0</td>\n",
       "      <td>1</td>\n",
       "      <td>0</td>\n",
       "      <td>0</td>\n",
       "      <td>0</td>\n",
       "      <td>0</td>\n",
       "      <td>0</td>\n",
       "      <td>0</td>\n",
       "      <td>...</td>\n",
       "      <td>0</td>\n",
       "      <td>0</td>\n",
       "      <td>0</td>\n",
       "      <td>0</td>\n",
       "      <td>0</td>\n",
       "      <td>0</td>\n",
       "      <td>0</td>\n",
       "      <td>0</td>\n",
       "      <td>0</td>\n",
       "      <td>1</td>\n",
       "    </tr>\n",
       "    <tr>\n",
       "      <th>5</th>\n",
       "      <td>0.714286</td>\n",
       "      <td>m</td>\n",
       "      <td>0</td>\n",
       "      <td>0</td>\n",
       "      <td>1</td>\n",
       "      <td>0</td>\n",
       "      <td>0</td>\n",
       "      <td>0</td>\n",
       "      <td>0</td>\n",
       "      <td>0</td>\n",
       "      <td>...</td>\n",
       "      <td>0</td>\n",
       "      <td>0</td>\n",
       "      <td>0</td>\n",
       "      <td>0</td>\n",
       "      <td>0</td>\n",
       "      <td>0</td>\n",
       "      <td>0</td>\n",
       "      <td>0</td>\n",
       "      <td>0</td>\n",
       "      <td>1</td>\n",
       "    </tr>\n",
       "    <tr>\n",
       "      <th>...</th>\n",
       "      <td>...</td>\n",
       "      <td>...</td>\n",
       "      <td>...</td>\n",
       "      <td>...</td>\n",
       "      <td>...</td>\n",
       "      <td>...</td>\n",
       "      <td>...</td>\n",
       "      <td>...</td>\n",
       "      <td>...</td>\n",
       "      <td>...</td>\n",
       "      <td>...</td>\n",
       "      <td>...</td>\n",
       "      <td>...</td>\n",
       "      <td>...</td>\n",
       "      <td>...</td>\n",
       "      <td>...</td>\n",
       "      <td>...</td>\n",
       "      <td>...</td>\n",
       "      <td>...</td>\n",
       "      <td>...</td>\n",
       "      <td>...</td>\n",
       "    </tr>\n",
       "    <tr>\n",
       "      <th>59937</th>\n",
       "      <td>0.734694</td>\n",
       "      <td>m</td>\n",
       "      <td>0</td>\n",
       "      <td>0</td>\n",
       "      <td>0</td>\n",
       "      <td>0</td>\n",
       "      <td>0</td>\n",
       "      <td>0</td>\n",
       "      <td>0</td>\n",
       "      <td>0</td>\n",
       "      <td>...</td>\n",
       "      <td>0</td>\n",
       "      <td>0</td>\n",
       "      <td>0</td>\n",
       "      <td>0</td>\n",
       "      <td>0</td>\n",
       "      <td>0</td>\n",
       "      <td>0</td>\n",
       "      <td>1</td>\n",
       "      <td>0</td>\n",
       "      <td>0</td>\n",
       "    </tr>\n",
       "    <tr>\n",
       "      <th>59942</th>\n",
       "      <td>0.765306</td>\n",
       "      <td>m</td>\n",
       "      <td>0</td>\n",
       "      <td>0</td>\n",
       "      <td>0</td>\n",
       "      <td>0</td>\n",
       "      <td>1</td>\n",
       "      <td>0</td>\n",
       "      <td>0</td>\n",
       "      <td>0</td>\n",
       "      <td>...</td>\n",
       "      <td>0</td>\n",
       "      <td>0</td>\n",
       "      <td>0</td>\n",
       "      <td>0</td>\n",
       "      <td>0</td>\n",
       "      <td>0</td>\n",
       "      <td>0</td>\n",
       "      <td>0</td>\n",
       "      <td>0</td>\n",
       "      <td>1</td>\n",
       "    </tr>\n",
       "    <tr>\n",
       "      <th>59943</th>\n",
       "      <td>0.755102</td>\n",
       "      <td>m</td>\n",
       "      <td>0</td>\n",
       "      <td>0</td>\n",
       "      <td>1</td>\n",
       "      <td>0</td>\n",
       "      <td>0</td>\n",
       "      <td>0</td>\n",
       "      <td>0</td>\n",
       "      <td>0</td>\n",
       "      <td>...</td>\n",
       "      <td>0</td>\n",
       "      <td>0</td>\n",
       "      <td>0</td>\n",
       "      <td>0</td>\n",
       "      <td>0</td>\n",
       "      <td>0</td>\n",
       "      <td>0</td>\n",
       "      <td>0</td>\n",
       "      <td>0</td>\n",
       "      <td>1</td>\n",
       "    </tr>\n",
       "    <tr>\n",
       "      <th>59944</th>\n",
       "      <td>0.775510</td>\n",
       "      <td>m</td>\n",
       "      <td>0</td>\n",
       "      <td>1</td>\n",
       "      <td>0</td>\n",
       "      <td>0</td>\n",
       "      <td>0</td>\n",
       "      <td>0</td>\n",
       "      <td>0</td>\n",
       "      <td>0</td>\n",
       "      <td>...</td>\n",
       "      <td>0</td>\n",
       "      <td>0</td>\n",
       "      <td>0</td>\n",
       "      <td>0</td>\n",
       "      <td>0</td>\n",
       "      <td>0</td>\n",
       "      <td>0</td>\n",
       "      <td>0</td>\n",
       "      <td>0</td>\n",
       "      <td>1</td>\n",
       "    </tr>\n",
       "    <tr>\n",
       "      <th>59945</th>\n",
       "      <td>0.724490</td>\n",
       "      <td>m</td>\n",
       "      <td>0</td>\n",
       "      <td>0</td>\n",
       "      <td>1</td>\n",
       "      <td>0</td>\n",
       "      <td>0</td>\n",
       "      <td>0</td>\n",
       "      <td>0</td>\n",
       "      <td>0</td>\n",
       "      <td>...</td>\n",
       "      <td>0</td>\n",
       "      <td>0</td>\n",
       "      <td>0</td>\n",
       "      <td>0</td>\n",
       "      <td>0</td>\n",
       "      <td>0</td>\n",
       "      <td>0</td>\n",
       "      <td>0</td>\n",
       "      <td>1</td>\n",
       "      <td>0</td>\n",
       "    </tr>\n",
       "  </tbody>\n",
       "</table>\n",
       "<p>47791 rows × 38 columns</p>\n",
       "</div>"
      ],
      "text/plain": [
       "         height sex  body_type_a little extra  body_type_athletic  \\\n",
       "0      0.795918   m                         1                   0   \n",
       "1      0.744898   m                         0                   0   \n",
       "3      0.755102   m                         0                   0   \n",
       "4      0.704082   m                         0                   1   \n",
       "5      0.714286   m                         0                   0   \n",
       "...         ...  ..                       ...                 ...   \n",
       "59937  0.734694   m                         0                   0   \n",
       "59942  0.765306   m                         0                   0   \n",
       "59943  0.755102   m                         0                   0   \n",
       "59944  0.775510   m                         0                   1   \n",
       "59945  0.724490   m                         0                   0   \n",
       "\n",
       "       body_type_average  body_type_curvy  body_type_fit  \\\n",
       "0                      0                0              0   \n",
       "1                      1                0              0   \n",
       "3                      0                0              0   \n",
       "4                      0                0              0   \n",
       "5                      1                0              0   \n",
       "...                  ...              ...            ...   \n",
       "59937                  0                0              0   \n",
       "59942                  0                0              1   \n",
       "59943                  1                0              0   \n",
       "59944                  0                0              0   \n",
       "59945                  1                0              0   \n",
       "\n",
       "       body_type_full figured  body_type_jacked  body_type_overweight  ...  \\\n",
       "0                           0                 0                     0  ...   \n",
       "1                           0                 0                     0  ...   \n",
       "3                           0                 0                     0  ...   \n",
       "4                           0                 0                     0  ...   \n",
       "5                           0                 0                     0  ...   \n",
       "...                       ...               ...                   ...  ...   \n",
       "59937                       0                 0                     0  ...   \n",
       "59942                       0                 0                     0  ...   \n",
       "59943                       0                 0                     0  ...   \n",
       "59944                       0                 0                     0  ...   \n",
       "59945                       0                 0                     0  ...   \n",
       "\n",
       "       job_rather not say  job_retired  job_sales / marketing / biz dev  \\\n",
       "0                       0            0                                0   \n",
       "1                       0            0                                0   \n",
       "3                       0            0                                0   \n",
       "4                       0            0                                0   \n",
       "5                       0            0                                0   \n",
       "...                   ...          ...                              ...   \n",
       "59937                   0            0                                0   \n",
       "59942                   0            0                                0   \n",
       "59943                   0            0                                0   \n",
       "59944                   0            0                                0   \n",
       "59945                   0            0                                0   \n",
       "\n",
       "       job_science / tech / engineering  job_student  job_transportation  \\\n",
       "0                                     0            0                   1   \n",
       "1                                     0            0                   0   \n",
       "3                                     0            1                   0   \n",
       "4                                     0            0                   0   \n",
       "5                                     0            0                   0   \n",
       "...                                 ...          ...                 ...   \n",
       "59937                                 0            0                   0   \n",
       "59942                                 0            0                   0   \n",
       "59943                                 0            0                   0   \n",
       "59944                                 0            0                   0   \n",
       "59945                                 0            0                   0   \n",
       "\n",
       "       job_unemployed  orientation_bisexual  orientation_gay  \\\n",
       "0                   0                     0                0   \n",
       "1                   0                     0                0   \n",
       "3                   0                     0                0   \n",
       "4                   0                     0                0   \n",
       "5                   0                     0                0   \n",
       "...               ...                   ...              ...   \n",
       "59937               0                     1                0   \n",
       "59942               0                     0                0   \n",
       "59943               0                     0                0   \n",
       "59944               0                     0                0   \n",
       "59945               0                     0                1   \n",
       "\n",
       "       orientation_straight  \n",
       "0                         1  \n",
       "1                         1  \n",
       "3                         1  \n",
       "4                         1  \n",
       "5                         1  \n",
       "...                     ...  \n",
       "59937                     0  \n",
       "59942                     1  \n",
       "59943                     1  \n",
       "59944                     1  \n",
       "59945                     0  \n",
       "\n",
       "[47791 rows x 38 columns]"
      ]
     },
     "execution_count": 10,
     "metadata": {},
     "output_type": "execute_result"
    }
   ],
   "source": [
    "num = min(new_df['height'])\n",
    "denom = num + max(new_df['height'])\n",
    "new_df['height'] = new_df['height'].apply(lambda x: (x + num)/denom)\n",
    "new_df"
   ]
  },
  {
   "cell_type": "markdown",
   "metadata": {},
   "source": [
    "#### Splitting Data"
   ]
  },
  {
   "cell_type": "markdown",
   "metadata": {},
   "source": [
    "In order to train any supervised machine learning algorithm, we have to separate out our variables from our labels. It's also essential to separate our training data from our test data so we can evaluate our machine learning models at the end of this project."
   ]
  },
  {
   "cell_type": "code",
   "execution_count": 11,
   "metadata": {},
   "outputs": [
    {
     "data": {
      "text/html": [
       "<div>\n",
       "<style scoped>\n",
       "    .dataframe tbody tr th:only-of-type {\n",
       "        vertical-align: middle;\n",
       "    }\n",
       "\n",
       "    .dataframe tbody tr th {\n",
       "        vertical-align: top;\n",
       "    }\n",
       "\n",
       "    .dataframe thead th {\n",
       "        text-align: right;\n",
       "    }\n",
       "</style>\n",
       "<table border=\"1\" class=\"dataframe\">\n",
       "  <thead>\n",
       "    <tr style=\"text-align: right;\">\n",
       "      <th></th>\n",
       "      <th>height</th>\n",
       "      <th>body_type_a little extra</th>\n",
       "      <th>body_type_athletic</th>\n",
       "      <th>body_type_average</th>\n",
       "      <th>body_type_curvy</th>\n",
       "      <th>body_type_fit</th>\n",
       "      <th>body_type_full figured</th>\n",
       "      <th>body_type_jacked</th>\n",
       "      <th>body_type_overweight</th>\n",
       "      <th>body_type_rather not say</th>\n",
       "      <th>...</th>\n",
       "      <th>job_rather not say</th>\n",
       "      <th>job_retired</th>\n",
       "      <th>job_sales / marketing / biz dev</th>\n",
       "      <th>job_science / tech / engineering</th>\n",
       "      <th>job_student</th>\n",
       "      <th>job_transportation</th>\n",
       "      <th>job_unemployed</th>\n",
       "      <th>orientation_bisexual</th>\n",
       "      <th>orientation_gay</th>\n",
       "      <th>orientation_straight</th>\n",
       "    </tr>\n",
       "  </thead>\n",
       "  <tbody>\n",
       "    <tr>\n",
       "      <th>0</th>\n",
       "      <td>0.795918</td>\n",
       "      <td>1</td>\n",
       "      <td>0</td>\n",
       "      <td>0</td>\n",
       "      <td>0</td>\n",
       "      <td>0</td>\n",
       "      <td>0</td>\n",
       "      <td>0</td>\n",
       "      <td>0</td>\n",
       "      <td>0</td>\n",
       "      <td>...</td>\n",
       "      <td>0</td>\n",
       "      <td>0</td>\n",
       "      <td>0</td>\n",
       "      <td>0</td>\n",
       "      <td>0</td>\n",
       "      <td>1</td>\n",
       "      <td>0</td>\n",
       "      <td>0</td>\n",
       "      <td>0</td>\n",
       "      <td>1</td>\n",
       "    </tr>\n",
       "    <tr>\n",
       "      <th>1</th>\n",
       "      <td>0.744898</td>\n",
       "      <td>0</td>\n",
       "      <td>0</td>\n",
       "      <td>1</td>\n",
       "      <td>0</td>\n",
       "      <td>0</td>\n",
       "      <td>0</td>\n",
       "      <td>0</td>\n",
       "      <td>0</td>\n",
       "      <td>0</td>\n",
       "      <td>...</td>\n",
       "      <td>0</td>\n",
       "      <td>0</td>\n",
       "      <td>0</td>\n",
       "      <td>0</td>\n",
       "      <td>0</td>\n",
       "      <td>0</td>\n",
       "      <td>0</td>\n",
       "      <td>0</td>\n",
       "      <td>0</td>\n",
       "      <td>1</td>\n",
       "    </tr>\n",
       "    <tr>\n",
       "      <th>3</th>\n",
       "      <td>0.755102</td>\n",
       "      <td>0</td>\n",
       "      <td>0</td>\n",
       "      <td>0</td>\n",
       "      <td>0</td>\n",
       "      <td>0</td>\n",
       "      <td>0</td>\n",
       "      <td>0</td>\n",
       "      <td>0</td>\n",
       "      <td>0</td>\n",
       "      <td>...</td>\n",
       "      <td>0</td>\n",
       "      <td>0</td>\n",
       "      <td>0</td>\n",
       "      <td>0</td>\n",
       "      <td>1</td>\n",
       "      <td>0</td>\n",
       "      <td>0</td>\n",
       "      <td>0</td>\n",
       "      <td>0</td>\n",
       "      <td>1</td>\n",
       "    </tr>\n",
       "    <tr>\n",
       "      <th>4</th>\n",
       "      <td>0.704082</td>\n",
       "      <td>0</td>\n",
       "      <td>1</td>\n",
       "      <td>0</td>\n",
       "      <td>0</td>\n",
       "      <td>0</td>\n",
       "      <td>0</td>\n",
       "      <td>0</td>\n",
       "      <td>0</td>\n",
       "      <td>0</td>\n",
       "      <td>...</td>\n",
       "      <td>0</td>\n",
       "      <td>0</td>\n",
       "      <td>0</td>\n",
       "      <td>0</td>\n",
       "      <td>0</td>\n",
       "      <td>0</td>\n",
       "      <td>0</td>\n",
       "      <td>0</td>\n",
       "      <td>0</td>\n",
       "      <td>1</td>\n",
       "    </tr>\n",
       "    <tr>\n",
       "      <th>5</th>\n",
       "      <td>0.714286</td>\n",
       "      <td>0</td>\n",
       "      <td>0</td>\n",
       "      <td>1</td>\n",
       "      <td>0</td>\n",
       "      <td>0</td>\n",
       "      <td>0</td>\n",
       "      <td>0</td>\n",
       "      <td>0</td>\n",
       "      <td>0</td>\n",
       "      <td>...</td>\n",
       "      <td>0</td>\n",
       "      <td>0</td>\n",
       "      <td>0</td>\n",
       "      <td>0</td>\n",
       "      <td>0</td>\n",
       "      <td>0</td>\n",
       "      <td>0</td>\n",
       "      <td>0</td>\n",
       "      <td>0</td>\n",
       "      <td>1</td>\n",
       "    </tr>\n",
       "    <tr>\n",
       "      <th>...</th>\n",
       "      <td>...</td>\n",
       "      <td>...</td>\n",
       "      <td>...</td>\n",
       "      <td>...</td>\n",
       "      <td>...</td>\n",
       "      <td>...</td>\n",
       "      <td>...</td>\n",
       "      <td>...</td>\n",
       "      <td>...</td>\n",
       "      <td>...</td>\n",
       "      <td>...</td>\n",
       "      <td>...</td>\n",
       "      <td>...</td>\n",
       "      <td>...</td>\n",
       "      <td>...</td>\n",
       "      <td>...</td>\n",
       "      <td>...</td>\n",
       "      <td>...</td>\n",
       "      <td>...</td>\n",
       "      <td>...</td>\n",
       "      <td>...</td>\n",
       "    </tr>\n",
       "    <tr>\n",
       "      <th>59937</th>\n",
       "      <td>0.734694</td>\n",
       "      <td>0</td>\n",
       "      <td>0</td>\n",
       "      <td>0</td>\n",
       "      <td>0</td>\n",
       "      <td>0</td>\n",
       "      <td>0</td>\n",
       "      <td>0</td>\n",
       "      <td>0</td>\n",
       "      <td>0</td>\n",
       "      <td>...</td>\n",
       "      <td>0</td>\n",
       "      <td>0</td>\n",
       "      <td>0</td>\n",
       "      <td>0</td>\n",
       "      <td>0</td>\n",
       "      <td>0</td>\n",
       "      <td>0</td>\n",
       "      <td>1</td>\n",
       "      <td>0</td>\n",
       "      <td>0</td>\n",
       "    </tr>\n",
       "    <tr>\n",
       "      <th>59942</th>\n",
       "      <td>0.765306</td>\n",
       "      <td>0</td>\n",
       "      <td>0</td>\n",
       "      <td>0</td>\n",
       "      <td>0</td>\n",
       "      <td>1</td>\n",
       "      <td>0</td>\n",
       "      <td>0</td>\n",
       "      <td>0</td>\n",
       "      <td>0</td>\n",
       "      <td>...</td>\n",
       "      <td>0</td>\n",
       "      <td>0</td>\n",
       "      <td>0</td>\n",
       "      <td>0</td>\n",
       "      <td>0</td>\n",
       "      <td>0</td>\n",
       "      <td>0</td>\n",
       "      <td>0</td>\n",
       "      <td>0</td>\n",
       "      <td>1</td>\n",
       "    </tr>\n",
       "    <tr>\n",
       "      <th>59943</th>\n",
       "      <td>0.755102</td>\n",
       "      <td>0</td>\n",
       "      <td>0</td>\n",
       "      <td>1</td>\n",
       "      <td>0</td>\n",
       "      <td>0</td>\n",
       "      <td>0</td>\n",
       "      <td>0</td>\n",
       "      <td>0</td>\n",
       "      <td>0</td>\n",
       "      <td>...</td>\n",
       "      <td>0</td>\n",
       "      <td>0</td>\n",
       "      <td>0</td>\n",
       "      <td>0</td>\n",
       "      <td>0</td>\n",
       "      <td>0</td>\n",
       "      <td>0</td>\n",
       "      <td>0</td>\n",
       "      <td>0</td>\n",
       "      <td>1</td>\n",
       "    </tr>\n",
       "    <tr>\n",
       "      <th>59944</th>\n",
       "      <td>0.775510</td>\n",
       "      <td>0</td>\n",
       "      <td>1</td>\n",
       "      <td>0</td>\n",
       "      <td>0</td>\n",
       "      <td>0</td>\n",
       "      <td>0</td>\n",
       "      <td>0</td>\n",
       "      <td>0</td>\n",
       "      <td>0</td>\n",
       "      <td>...</td>\n",
       "      <td>0</td>\n",
       "      <td>0</td>\n",
       "      <td>0</td>\n",
       "      <td>0</td>\n",
       "      <td>0</td>\n",
       "      <td>0</td>\n",
       "      <td>0</td>\n",
       "      <td>0</td>\n",
       "      <td>0</td>\n",
       "      <td>1</td>\n",
       "    </tr>\n",
       "    <tr>\n",
       "      <th>59945</th>\n",
       "      <td>0.724490</td>\n",
       "      <td>0</td>\n",
       "      <td>0</td>\n",
       "      <td>1</td>\n",
       "      <td>0</td>\n",
       "      <td>0</td>\n",
       "      <td>0</td>\n",
       "      <td>0</td>\n",
       "      <td>0</td>\n",
       "      <td>0</td>\n",
       "      <td>...</td>\n",
       "      <td>0</td>\n",
       "      <td>0</td>\n",
       "      <td>0</td>\n",
       "      <td>0</td>\n",
       "      <td>0</td>\n",
       "      <td>0</td>\n",
       "      <td>0</td>\n",
       "      <td>0</td>\n",
       "      <td>1</td>\n",
       "      <td>0</td>\n",
       "    </tr>\n",
       "  </tbody>\n",
       "</table>\n",
       "<p>47791 rows × 37 columns</p>\n",
       "</div>"
      ],
      "text/plain": [
       "         height  body_type_a little extra  body_type_athletic  \\\n",
       "0      0.795918                         1                   0   \n",
       "1      0.744898                         0                   0   \n",
       "3      0.755102                         0                   0   \n",
       "4      0.704082                         0                   1   \n",
       "5      0.714286                         0                   0   \n",
       "...         ...                       ...                 ...   \n",
       "59937  0.734694                         0                   0   \n",
       "59942  0.765306                         0                   0   \n",
       "59943  0.755102                         0                   0   \n",
       "59944  0.775510                         0                   1   \n",
       "59945  0.724490                         0                   0   \n",
       "\n",
       "       body_type_average  body_type_curvy  body_type_fit  \\\n",
       "0                      0                0              0   \n",
       "1                      1                0              0   \n",
       "3                      0                0              0   \n",
       "4                      0                0              0   \n",
       "5                      1                0              0   \n",
       "...                  ...              ...            ...   \n",
       "59937                  0                0              0   \n",
       "59942                  0                0              1   \n",
       "59943                  1                0              0   \n",
       "59944                  0                0              0   \n",
       "59945                  1                0              0   \n",
       "\n",
       "       body_type_full figured  body_type_jacked  body_type_overweight  \\\n",
       "0                           0                 0                     0   \n",
       "1                           0                 0                     0   \n",
       "3                           0                 0                     0   \n",
       "4                           0                 0                     0   \n",
       "5                           0                 0                     0   \n",
       "...                       ...               ...                   ...   \n",
       "59937                       0                 0                     0   \n",
       "59942                       0                 0                     0   \n",
       "59943                       0                 0                     0   \n",
       "59944                       0                 0                     0   \n",
       "59945                       0                 0                     0   \n",
       "\n",
       "       body_type_rather not say  ...  job_rather not say  job_retired  \\\n",
       "0                             0  ...                   0            0   \n",
       "1                             0  ...                   0            0   \n",
       "3                             0  ...                   0            0   \n",
       "4                             0  ...                   0            0   \n",
       "5                             0  ...                   0            0   \n",
       "...                         ...  ...                 ...          ...   \n",
       "59937                         0  ...                   0            0   \n",
       "59942                         0  ...                   0            0   \n",
       "59943                         0  ...                   0            0   \n",
       "59944                         0  ...                   0            0   \n",
       "59945                         0  ...                   0            0   \n",
       "\n",
       "       job_sales / marketing / biz dev  job_science / tech / engineering  \\\n",
       "0                                    0                                 0   \n",
       "1                                    0                                 0   \n",
       "3                                    0                                 0   \n",
       "4                                    0                                 0   \n",
       "5                                    0                                 0   \n",
       "...                                ...                               ...   \n",
       "59937                                0                                 0   \n",
       "59942                                0                                 0   \n",
       "59943                                0                                 0   \n",
       "59944                                0                                 0   \n",
       "59945                                0                                 0   \n",
       "\n",
       "       job_student  job_transportation  job_unemployed  orientation_bisexual  \\\n",
       "0                0                   1               0                     0   \n",
       "1                0                   0               0                     0   \n",
       "3                1                   0               0                     0   \n",
       "4                0                   0               0                     0   \n",
       "5                0                   0               0                     0   \n",
       "...            ...                 ...             ...                   ...   \n",
       "59937            0                   0               0                     1   \n",
       "59942            0                   0               0                     0   \n",
       "59943            0                   0               0                     0   \n",
       "59944            0                   0               0                     0   \n",
       "59945            0                   0               0                     0   \n",
       "\n",
       "       orientation_gay  orientation_straight  \n",
       "0                    0                     1  \n",
       "1                    0                     1  \n",
       "3                    0                     1  \n",
       "4                    0                     1  \n",
       "5                    0                     1  \n",
       "...                ...                   ...  \n",
       "59937                0                     0  \n",
       "59942                0                     1  \n",
       "59943                0                     1  \n",
       "59944                0                     1  \n",
       "59945                1                     0  \n",
       "\n",
       "[47791 rows x 37 columns]"
      ]
     },
     "execution_count": 11,
     "metadata": {},
     "output_type": "execute_result"
    }
   ],
   "source": [
    "cols_1 = new_df.columns[:1]\n",
    "cols_2 = new_df.columns[2:]\n",
    "variables = pd.concat([new_df[cols_1], new_df[cols_2]], axis=1)\n",
    "variables"
   ]
  },
  {
   "cell_type": "code",
   "execution_count": 12,
   "metadata": {},
   "outputs": [
    {
     "data": {
      "text/plain": [
       "0        1\n",
       "1        1\n",
       "3        1\n",
       "4        1\n",
       "5        1\n",
       "        ..\n",
       "59937    1\n",
       "59942    1\n",
       "59943    1\n",
       "59944    1\n",
       "59945    1\n",
       "Name: sex, Length: 47791, dtype: int64"
      ]
     },
     "execution_count": 12,
     "metadata": {},
     "output_type": "execute_result"
    }
   ],
   "source": [
    "labels = new_df['sex'].apply(lambda x: 0 if x == 'f' else 1)\n",
    "labels"
   ]
  },
  {
   "cell_type": "code",
   "execution_count": 13,
   "metadata": {},
   "outputs": [],
   "source": [
    "from sklearn.model_selection import train_test_split \n",
    "x_train, x_test, y_train, y_test = train_test_split(variables, labels, test_size=0.2, random_state=1)\n",
    "\n",
    "# turn results to 1d arrays and reshape\n",
    "y_train = y_train.to_numpy().ravel()\n",
    "y_test = y_test.to_numpy().ravel()"
   ]
  },
  {
   "cell_type": "markdown",
   "metadata": {},
   "source": [
    "# Building Machine Learning Models"
   ]
  },
  {
   "cell_type": "markdown",
   "metadata": {},
   "source": [
    "Now we come to building the actual models. We have a number of classification algorithms to choose from, so below I briefly discuss the strengths and weaknesses of the models that I'll build below. For a summary of the pros and cons of various machine learning algorithms, see here: (https://towardsdatascience.com/pros-and-cons-of-various-classification-ml-algorithms-3b5bfb3c87d6)."
   ]
  },
  {
   "cell_type": "markdown",
   "metadata": {},
   "source": [
    "**K Nearest Neighbour Classifiers** have the advantage of not making assumptions about the data and being simple to implement, but are often slow and/or inaccurate for large datasets with large numbers of features."
   ]
  },
  {
   "cell_type": "markdown",
   "metadata": {},
   "source": [
    "**Logistic Regression Classifiers** are simple but effective classifiers that are particularly good for binary classification problems like this one, although are not as powerful as many other algorithms."
   ]
  },
  {
   "cell_type": "markdown",
   "metadata": {},
   "source": [
    "**Decision Tree Classifiers** have the advantage of being robust, but are slow and prone to overfitting. Comparatively, **Random Forest Classifiers** have the advantage of reducing error and the risk of overfitting compared to decision trees, but with the drawback that the variables need to have a lot of predictive power."
   ]
  },
  {
   "cell_type": "markdown",
   "metadata": {},
   "source": [
    "Other common classifiers were considered, including **Naive Bayes Classifiers** and **Support Vector Machines**, but rejected. In the case of Naive Bayes, this was because of thhe fundamental assumption that features are independent, which cannot be met in this instance. In the case of SVMs, this was because of the slowness of the algorithm in addition to the fact that it performs best when classes are separable."
   ]
  },
  {
   "cell_type": "markdown",
   "metadata": {},
   "source": [
    "#### Evaluation Metrics"
   ]
  },
  {
   "cell_type": "markdown",
   "metadata": {},
   "source": [
    "As mentioned above, accuracy is not the end-all-be-all of metrics for evaluating how successful our classification models are. We will be using all four common metrics to evaluate our models.\n",
    "\n",
    "**Accuracy:** the true positives divided by total values (i.e. the sum of true positives, false positives, true negatives, and false negatives)\n",
    "\n",
    "\n",
    "**Precision:** the true positives divided by the actual number of positive values (i.e. the sum of the true positives and false negatives). Useful when the cost of a false positive is high.\n",
    "\n",
    "\n",
    "**Recall:** the true positives divided by the positive guesses. (i.e., the sum of the true positives and false positives). Useful when the cost of a false negative is high.\n",
    "\n",
    "\n",
    "**F1-score:** the harmonic mean of the precision and recall metrics. Useful as a metric when we need to balance between precision and recall."
   ]
  },
  {
   "cell_type": "markdown",
   "metadata": {},
   "source": [
    "#### Importing the Models and Metrics"
   ]
  },
  {
   "cell_type": "code",
   "execution_count": 34,
   "metadata": {},
   "outputs": [],
   "source": [
    "from sklearn.neighbors import KNeighborsClassifier\n",
    "from sklearn.linear_model import LogisticRegression\n",
    "from sklearn.tree import DecisionTreeClassifier\n",
    "from sklearn.ensemble import RandomForestClassifier\n",
    "from sklearn.metrics import classification_report, accuracy_score, recall_score, precision_score, f1_score"
   ]
  },
  {
   "cell_type": "markdown",
   "metadata": {},
   "source": [
    "### Building and Optimising K Nearest Neighbours Model"
   ]
  },
  {
   "cell_type": "markdown",
   "metadata": {},
   "source": [
    "Let's begin by building a K Nearest Neighbours model."
   ]
  },
  {
   "cell_type": "code",
   "execution_count": 93,
   "metadata": {},
   "outputs": [
    {
     "name": "stdout",
     "output_type": "stream",
     "text": [
      "              precision    recall  f1-score   support\n",
      "\n",
      "           0       0.82      0.79      0.80      3646\n",
      "           1       0.87      0.89      0.88      5913\n",
      "\n",
      "    accuracy                           0.85      9559\n",
      "   macro avg       0.85      0.84      0.84      9559\n",
      "weighted avg       0.85      0.85      0.85      9559\n",
      "\n",
      "0.8527042577675489\n"
     ]
    }
   ],
   "source": [
    "knn_model = KNeighborsClassifier(n_neighbors = 5)\n",
    "knn_model.fit(x_train, y_train)\n",
    "knn_predictions = knn_model.predict(x_test)\n",
    "print(classification_report(y_test, knn_predictions))\n",
    "print(accuracy_score(y_test, knn_predictions))"
   ]
  },
  {
   "cell_type": "markdown",
   "metadata": {},
   "source": [
    "This isn't a bad start, but it begs the question: could we do better with a better value for k? Below, I iterate through all of the odd values of k between 1 and 99. Odd numbers are usually preferred over even values with this algorithm in order to ensure that there are no ties in the voting."
   ]
  },
  {
   "cell_type": "code",
   "execution_count": 94,
   "metadata": {},
   "outputs": [
    {
     "data": {
      "text/plain": [
       "{1: 0.8070927921330683,\n",
       " 3: 0.8472643581964641,\n",
       " 5: 0.8527042577675489,\n",
       " 7: 0.8613871743906266,\n",
       " 9: 0.8631656030965582,\n",
       " 11: 0.8630609896432682,\n",
       " 13: 0.8610733340307564,\n",
       " 15: 0.8635840569097186,\n",
       " 17: 0.8611779474840464,\n",
       " 19: 0.860654880217596,\n",
       " 21: 0.8590856784182446,\n",
       " 23: 0.8570980228057328,\n",
       " 25: 0.8578303169787634,\n",
       " 27: 0.8578303169787634,\n",
       " 29: 0.8614917878439168,\n",
       " 31: 0.8617010147504969,\n",
       " 33: 0.862851762736688,\n",
       " 35: 0.8619102416570771,\n",
       " 37: 0.862851762736688,\n",
       " 39: 0.862956376189978,\n",
       " 41: 0.8636886703630087,\n",
       " 43: 0.8645255779893294,\n",
       " 45: 0.8637932838162988,\n",
       " 47: 0.8615964012972068,\n",
       " 49: 0.861805628203787,\n",
       " 51: 0.8624333089235275,\n",
       " 53: 0.862851762736688,\n",
       " 55: 0.8631656030965582,\n",
       " 57: 0.8631656030965582,\n",
       " 59: 0.8638978972695889,\n",
       " 61: 0.8637932838162988,\n",
       " 63: 0.8637932838162988,\n",
       " 65: 0.8638978972695889,\n",
       " 67: 0.8624333089235275,\n",
       " 69: 0.8623286954702375,\n",
       " 71: 0.8620148551103672,\n",
       " 73: 0.861805628203787,\n",
       " 75: 0.8620148551103672,\n",
       " 77: 0.8623286954702375,\n",
       " 79: 0.8617010147504969,\n",
       " 81: 0.8607594936708861,\n",
       " 83: 0.8608641071241762,\n",
       " 85: 0.8601318129511455,\n",
       " 87: 0.8601318129511455,\n",
       " 89: 0.8599225860445653,\n",
       " 91: 0.8585626111517941,\n",
       " 93: 0.8585626111517941,\n",
       " 95: 0.8587718380583743,\n",
       " 97: 0.8591902918715347,\n",
       " 99: 0.8572026362590229}"
      ]
     },
     "execution_count": 94,
     "metadata": {},
     "output_type": "execute_result"
    }
   ],
   "source": [
    "accuracy = {}\n",
    "for i in range(1, 101, 2):\n",
    "    knn_model = KNeighborsClassifier(n_neighbors = i)\n",
    "    knn_model.fit(x_train, y_train)\n",
    "    knn_predictions = knn_model.predict(x_test)\n",
    "    accuracy[i] = accuracy_score(y_test, knn_predictions)\n",
    "accuracy"
   ]
  },
  {
   "cell_type": "code",
   "execution_count": 95,
   "metadata": {},
   "outputs": [
    {
     "data": {
      "text/plain": [
       "<AxesSubplot:>"
      ]
     },
     "execution_count": 95,
     "metadata": {},
     "output_type": "execute_result"
    },
    {
     "data": {
      "image/png": "[encoded data removed]",
      "text/plain": [
       "<Figure size 432x288 with 1 Axes>"
      ]
     },
     "metadata": {
      "needs_background": "light"
     },
     "output_type": "display_data"
    }
   ],
   "source": [
    "sns.scatterplot(data = accuracy, x=accuracy.keys(), y=accuracy.values())"
   ]
  },
  {
   "cell_type": "code",
   "execution_count": 96,
   "metadata": {},
   "outputs": [
    {
     "data": {
      "text/plain": [
       "0.8645255779893294"
      ]
     },
     "execution_count": 96,
     "metadata": {},
     "output_type": "execute_result"
    }
   ],
   "source": [
    "max(accuracy.values())"
   ]
  },
  {
   "cell_type": "markdown",
   "metadata": {},
   "source": [
    "As we can see from the above dictionary and scatterplot, the model gets better from 1 onwards until peaking at 15, at which point the benefits seem to plateau (the lowest number of neighbors to beat 15 for accuracy is 41!). We will therefore set the neighbors to 15, rather than 5 as in our initial attempt."
   ]
  },
  {
   "cell_type": "code",
   "execution_count": 50,
   "metadata": {},
   "outputs": [
    {
     "name": "stdout",
     "output_type": "stream",
     "text": [
      "              precision    recall  f1-score   support\n",
      "\n",
      "           0       0.85      0.78      0.81      3646\n",
      "           1       0.87      0.91      0.89      5913\n",
      "\n",
      "    accuracy                           0.86      9559\n",
      "   macro avg       0.86      0.85      0.85      9559\n",
      "weighted avg       0.86      0.86      0.86      9559\n",
      "\n",
      "0.8635840569097186\n"
     ]
    }
   ],
   "source": [
    "knn_model = KNeighborsClassifier(n_neighbors = 15)\n",
    "knn_model.fit(x_train, y_train)\n",
    "knn_predictions = knn_model.predict(x_test)\n",
    "print(classification_report(y_test, knn_predictions))\n",
    "print(accuracy_score(y_test, knn_predictions))"
   ]
  },
  {
   "cell_type": "markdown",
   "metadata": {},
   "source": [
    "We have gained around 1% accuracy by optimising for the value of k, which is a fairly small but not insubstantial gain."
   ]
  },
  {
   "cell_type": "markdown",
   "metadata": {},
   "source": [
    "### Building a Logistic Regression Model"
   ]
  },
  {
   "cell_type": "markdown",
   "metadata": {},
   "source": [
    "Next, we will build a logistic regression model. In this instance, I have had to increase the max iterations from sklearn's default of 100 to 200 in order to get the algorithm to converge."
   ]
  },
  {
   "cell_type": "code",
   "execution_count": 16,
   "metadata": {
    "scrolled": true
   },
   "outputs": [
    {
     "name": "stdout",
     "output_type": "stream",
     "text": [
      "              precision    recall  f1-score   support\n",
      "\n",
      "           0       0.86      0.79      0.82      3646\n",
      "           1       0.88      0.92      0.90      5913\n",
      "\n",
      "    accuracy                           0.87      9559\n",
      "   macro avg       0.87      0.85      0.86      9559\n",
      "weighted avg       0.87      0.87      0.87      9559\n",
      "\n",
      "0.8705931582801548\n"
     ]
    }
   ],
   "source": [
    "log_reg_model = LogisticRegression(solver='lbfgs', max_iter=200, random_state=0)\n",
    "log_reg_model.fit(x_train, y_train)\n",
    "log_reg_predictions = log_reg_model.predict(x_test)\n",
    "print(classification_report(y_test, log_reg_predictions))\n",
    "print(accuracy_score(y_test, log_reg_predictions))"
   ]
  },
  {
   "cell_type": "markdown",
   "metadata": {},
   "source": [
    "This is a (very!) marginal improvement over our optimised K Nearest Neigbours algorithm in terms of all our key metrics."
   ]
  },
  {
   "cell_type": "markdown",
   "metadata": {},
   "source": [
    "### Building a Decision Tree Model, Avoiding Overfitting, and the Random Forest Model"
   ]
  },
  {
   "cell_type": "markdown",
   "metadata": {},
   "source": [
    "Finally, let's build a decision tree model to see if we can improve on our logistic regression model."
   ]
  },
  {
   "cell_type": "code",
   "execution_count": 28,
   "metadata": {},
   "outputs": [
    {
     "name": "stdout",
     "output_type": "stream",
     "text": [
      "              precision    recall  f1-score   support\n",
      "\n",
      "           0       0.84      0.80      0.82      3646\n",
      "           1       0.88      0.91      0.90      5913\n",
      "\n",
      "    accuracy                           0.87      9559\n",
      "   macro avg       0.86      0.86      0.86      9559\n",
      "weighted avg       0.87      0.87      0.87      9559\n",
      "\n",
      "0.8682916623077728\n"
     ]
    }
   ],
   "source": [
    "tree_model = DecisionTreeClassifier(random_state=0)\n",
    "tree_model.fit(x_train, y_train)\n",
    "tree_predictions = tree_model.predict(x_test)\n",
    "print(classification_report(y_test, tree_predictions))\n",
    "print(accuracy_score(y_test, tree_predictions))"
   ]
  },
  {
   "cell_type": "markdown",
   "metadata": {},
   "source": [
    "This is slightly worse than our logistic regression model, although, interestingly, all our models are performing almost exactly the same on our key metrics. One potential problem we may run into here is overfitting, however, a problem known to affect decision tree models. Let's look at the depth."
   ]
  },
  {
   "cell_type": "code",
   "execution_count": 29,
   "metadata": {},
   "outputs": [
    {
     "data": {
      "text/plain": [
       "36"
      ]
     },
     "execution_count": 29,
     "metadata": {},
     "output_type": "execute_result"
    }
   ],
   "source": [
    "tree_model.get_depth()"
   ]
  },
  {
   "cell_type": "markdown",
   "metadata": {},
   "source": [
    "This is quite a lot of depth, which may potentially cause overfitting. Let's look at the feature importance to evaluate whether we could reduce the depth without substantially reducing the efficacy of the model."
   ]
  },
  {
   "cell_type": "code",
   "execution_count": 30,
   "metadata": {},
   "outputs": [
    {
     "data": {
      "text/plain": [
       "array([0.75180487, 0.00450004, 0.01053488, 0.00505641, 0.08017569,\n",
       "       0.00364927, 0.01716801, 0.00196767, 0.00292732, 0.00132671,\n",
       "       0.00324682, 0.01154833, 0.0026274 , 0.00276427, 0.00197658,\n",
       "       0.0030039 , 0.01571095, 0.00570319, 0.00650119, 0.00227856,\n",
       "       0.00163255, 0.00210483, 0.00294028, 0.00506083, 0.00121915,\n",
       "       0.00475801, 0.00172866, 0.00207833, 0.00116238, 0.0035038 ,\n",
       "       0.00838541, 0.00377267, 0.00223475, 0.00176792, 0.0063352 ,\n",
       "       0.00985704, 0.00698615])"
      ]
     },
     "execution_count": 30,
     "metadata": {},
     "output_type": "execute_result"
    }
   ],
   "source": [
    "tree_model.feature_importances_"
   ]
  },
  {
   "cell_type": "markdown",
   "metadata": {},
   "source": [
    "Well, perhaps predictably, our 'height' column is doing almost all of the work in this model ... To our point, there are several features with very minimal predictive power here, so we should be able to reduce the depth without much loss in our key metrics."
   ]
  },
  {
   "cell_type": "code",
   "execution_count": 31,
   "metadata": {},
   "outputs": [
    {
     "name": "stdout",
     "output_type": "stream",
     "text": [
      "              precision    recall  f1-score   support\n",
      "\n",
      "           0       0.84      0.80      0.82      3646\n",
      "           1       0.88      0.91      0.89      5913\n",
      "\n",
      "    accuracy                           0.87      9559\n",
      "   macro avg       0.86      0.85      0.86      9559\n",
      "weighted avg       0.87      0.87      0.87      9559\n",
      "\n",
      "0.8657809394288105\n"
     ]
    }
   ],
   "source": [
    "tree_model_2 = DecisionTreeClassifier(max_depth = 10, random_state=0)\n",
    "tree_model_2.fit(x_train, y_train)\n",
    "tree_predictions_2 = tree_model_2.predict(x_test)\n",
    "print(classification_report(y_test, tree_predictions_2))\n",
    "print(accuracy_score(y_test, tree_predictions_2))"
   ]
  },
  {
   "cell_type": "markdown",
   "metadata": {},
   "source": [
    "That's a very small loss in our key metrics in exchange for a fairly large reduction in depth, and thus also the chance of overfitting to the training data and being unable to generalise to another dataset."
   ]
  },
  {
   "cell_type": "markdown",
   "metadata": {},
   "source": [
    "Could we potentially improve our model further by changing from a single decision tree to a random forest? Let's see."
   ]
  },
  {
   "cell_type": "code",
   "execution_count": 111,
   "metadata": {},
   "outputs": [
    {
     "name": "stdout",
     "output_type": "stream",
     "text": [
      "              precision    recall  f1-score   support\n",
      "\n",
      "           0       0.86      0.79      0.82      3646\n",
      "           1       0.88      0.92      0.90      5913\n",
      "\n",
      "    accuracy                           0.87      9559\n",
      "   macro avg       0.87      0.85      0.86      9559\n",
      "weighted avg       0.87      0.87      0.87      9559\n",
      "\n",
      "0.8700700910137044\n"
     ]
    }
   ],
   "source": [
    "forest_model = RandomForestClassifier(n_estimators = 2000, random_state=0)\n",
    "forest_model.fit(x_train, y_train)\n",
    "forest_predictions = forest_model.predict(x_test)\n",
    "print(classification_report(y_test, forest_predictions))\n",
    "print(accuracy_score(y_test, forest_predictions))"
   ]
  },
  {
   "cell_type": "markdown",
   "metadata": {},
   "source": [
    "This is a very minimal improvement, but an improvement nonetheless. We don't have to reduce the max depth with random forest classifiers because they are much less prone to overfitting (because each 'tree' in the forest considers only a subset of features and the final outcome is the result of a 'vote' between all the trees)."
   ]
  },
  {
   "cell_type": "markdown",
   "metadata": {},
   "source": [
    "### Evaluating Our Models"
   ]
  },
  {
   "cell_type": "markdown",
   "metadata": {},
   "source": [
    "Let's see which of our three models does best for each of our four key metrics (N.B. in this case we are taking our random forest model with a max depth of 10 as the best version of that model)."
   ]
  },
  {
   "cell_type": "code",
   "execution_count": 112,
   "metadata": {},
   "outputs": [
    {
     "name": "stdout",
     "output_type": "stream",
     "text": [
      "0.8635840569097186\n",
      "0.8705931582801548\n",
      "0.8700700910137044\n"
     ]
    }
   ],
   "source": [
    "# Accuracy\n",
    "print(accuracy_score(y_test, knn_predictions))\n",
    "print(accuracy_score(y_test, log_reg_predictions))\n",
    "print(accuracy_score(y_test, forest_predictions))"
   ]
  },
  {
   "cell_type": "code",
   "execution_count": 113,
   "metadata": {},
   "outputs": [
    {
     "name": "stdout",
     "output_type": "stream",
     "text": [
      "0.8712743676494281\n",
      "0.8757634201221473\n",
      "0.8771193282738576\n"
     ]
    }
   ],
   "source": [
    "# Precision\n",
    "print(precision_score(y_test, knn_predictions))\n",
    "print(precision_score(y_test, log_reg_predictions))\n",
    "print(precision_score(y_test, forest_predictions))"
   ]
  },
  {
   "cell_type": "code",
   "execution_count": 114,
   "metadata": {},
   "outputs": [
    {
     "name": "stdout",
     "output_type": "stream",
     "text": [
      "0.9145949602570607\n",
      "0.9215288347708439\n",
      "0.9186538136309825\n"
     ]
    }
   ],
   "source": [
    "# Recall\n",
    "print(recall_score(y_test, knn_predictions))\n",
    "print(recall_score(y_test, log_reg_predictions))\n",
    "print(recall_score(y_test, forest_predictions))"
   ]
  },
  {
   "cell_type": "code",
   "execution_count": 115,
   "metadata": {},
   "outputs": [
    {
     "name": "stdout",
     "output_type": "stream",
     "text": [
      "0.8924092409240925\n",
      "0.8980634528224144\n",
      "0.8974062448372708\n"
     ]
    }
   ],
   "source": [
    "# F1\n",
    "print(f1_score(y_test, knn_predictions))\n",
    "print(f1_score(y_test, log_reg_predictions))\n",
    "print(f1_score(y_test, forest_predictions))"
   ]
  },
  {
   "cell_type": "markdown",
   "metadata": {},
   "source": [
    "There's almost nothing in this, but Logistic Regression had the highest accuracy, recall, and F1 score. Considering how much quicker it is to implement than Random Forests, I think it's fair to say we have a winner! \n",
    "\n",
    "The only way case where we would prefer the Random Forest model would be in cases where precision was the most important metric, as it would be in cases where the cost of a false positive is exceptionally high. In our case, it seems to me that a false positive is no worse than a false positive, so our Logistic Regression model seems the clear winner."
   ]
  },
  {
   "cell_type": "markdown",
   "metadata": {},
   "source": [
    "# Conclusion"
   ]
  },
  {
   "cell_type": "markdown",
   "metadata": {},
   "source": [
    "**Overall**, this project was reasonably successful. I managed to build three reasonably successful classifiers that all performed in the range of 86-87% in terms of accuracy and 89% in terms of F1 score. Seeing as a model that simply picked 'm' every time would have scored around 60% for accuracy, this is not a roaring success, but is still a significant improvement over a simple heuristic like that.\n",
    "\n",
    "Despite attempts at optimisation, neither the K Nearest Neighbor nor Decision Tree/ Random Forest classifiers were quite able to match the basic Logistic Regression model. This is somewhat disappointing, but in my view, the extreme similarity in the performance of the models, optimised or not, points to the fact that we were getting quite close to optimal scores in our evaluation metrics with the four variables we chose to include ('height', 'body_type', 'job', and 'orientation'). In terms of predictive power, in fact, the majority of the work was done by a single variable, height, as we can see from the below."
   ]
  },
  {
   "cell_type": "code",
   "execution_count": 116,
   "metadata": {},
   "outputs": [
    {
     "data": {
      "text/plain": [
       "{'height': 45.35526989376677,\n",
       " 'body_type_curvy': -3.0642676534726605,\n",
       " 'body_type_full figured': -1.8736498046637802,\n",
       " 'job_construction / craftsmanship': 1.590288312569184,\n",
       " 'job_military': 1.2070102622461674,\n",
       " 'job_computer / hardware / software': 1.129967556095316,\n",
       " 'job_clerical / administrative': -1.1268174917566223,\n",
       " 'body_type_athletic': 1.0877005391979506,\n",
       " 'job_education / academia': -1.041698059813896,\n",
       " 'job_transportation': 0.9726540647504632}"
      ]
     },
     "execution_count": 116,
     "metadata": {},
     "output_type": "execute_result"
    }
   ],
   "source": [
    "coefs = log_reg_model.coef_.ravel()\n",
    "var_cols = variables.columns\n",
    "\n",
    "dct = {}\n",
    "for i in range(len(var_cols)):\n",
    "    dct[var_cols[i]] = coefs[i]\n",
    "sorted_dct = {k: v for k, v in sorted(dct.items(), key=lambda item: abs(item[1]), reverse=True)}\n",
    "\n",
    "first_ten = dict(list(sorted_dct.items())[:10])\n",
    "first_ten"
   ]
  },
  {
   "cell_type": "markdown",
   "metadata": {},
   "source": [
    "As we can see, height has 15 times the predictive power of the next best variable ('body_type_curvy'). The obvious **next steps** to improve the performance of the model would be to include more variables in our analysis and to take steps to optimise our logistic regression model."
   ]
  }
 ],
 "metadata": {
  "kernelspec": {
   "display_name": "Python 3 (ipykernel)",
   "language": "python",
   "name": "python3"
  },
  "language_info": {
   "codemirror_mode": {
    "name": "ipython",
    "version": 3
   },
   "file_extension": ".py",
   "mimetype": "text/x-python",
   "name": "python",
   "nbconvert_exporter": "python",
   "pygments_lexer": "ipython3",
   "version": "3.9.7"
  }
 },
 "nbformat": 4,
 "nbformat_minor": 4
}
